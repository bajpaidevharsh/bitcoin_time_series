{
  "nbformat": 4,
  "nbformat_minor": 0,
  "metadata": {
    "colab": {
      "provenance": [],
      "gpuType": "T4"
    },
    "kernelspec": {
      "name": "python3",
      "display_name": "Python 3"
    },
    "language_info": {
      "name": "python"
    },
    "accelerator": "GPU"
  },
  "cells": [
    {
      "cell_type": "markdown",
      "source": [
        "**importing dependencies**"
      ],
      "metadata": {
        "id": "p9ZoMpA2kjmq"
      }
    },
    {
      "cell_type": "code",
      "source": [
        "import pandas\n",
        "import numpy\n",
        "import matplotlib.pyplot"
      ],
      "metadata": {
        "id": "MkAMNEHWEZfG"
      },
      "execution_count": 3,
      "outputs": []
    },
    {
      "cell_type": "code",
      "source": [
        "import tensorflow"
      ],
      "metadata": {
        "id": "geJodonIW8WY"
      },
      "execution_count": 2,
      "outputs": []
    },
    {
      "cell_type": "markdown",
      "source": [
        "**importing bicoin history data**"
      ],
      "metadata": {
        "id": "jHb9MqkpkpbP"
      }
    },
    {
      "cell_type": "code",
      "source": [
        "data=pandas.read_csv('/content/bitcoin_2010-12-24_2024-07-24.csv')"
      ],
      "metadata": {
        "id": "Xm-EuaSqEmXC"
      },
      "execution_count": 4,
      "outputs": []
    },
    {
      "cell_type": "code",
      "source": [
        "data.shape"
      ],
      "metadata": {
        "colab": {
          "base_uri": "https://localhost:8080/"
        },
        "id": "ONEpTdDhFBV4",
        "outputId": "6aa9eee4-1d9c-471f-d3e8-d73142430f39"
      },
      "execution_count": 5,
      "outputs": [
        {
          "output_type": "execute_result",
          "data": {
            "text/plain": [
              "(4961, 8)"
            ]
          },
          "metadata": {},
          "execution_count": 5
        }
      ]
    },
    {
      "cell_type": "code",
      "source": [
        "for i in range(4916//2):\n",
        "  data.iloc[i],data.iloc[-i]=data.iloc[-i],data.iloc[i]"
      ],
      "metadata": {
        "id": "gTYV-qxaId5I"
      },
      "execution_count": 6,
      "outputs": []
    },
    {
      "cell_type": "code",
      "source": [
        "data"
      ],
      "metadata": {
        "colab": {
          "base_uri": "https://localhost:8080/",
          "height": 617
        },
        "id": "yg5u0K16LdL_",
        "outputId": "3c2ae5b8-36cd-4885-ad0b-a1828179b885"
      },
      "execution_count": 7,
      "outputs": [
        {
          "output_type": "execute_result",
          "data": {
            "text/plain": [
              "           Start         End        Open        High         Low       Close  \\\n",
              "0     2024-07-23  2024-07-24  67537.9900  67693.9900  65528.3700  65914.5500   \n",
              "1     2010-12-24  2010-12-25      0.2480      0.2480      0.2480      0.2480   \n",
              "2     2010-12-25  2010-12-26      0.2499      0.2499      0.2499      0.2499   \n",
              "3     2010-12-26  2010-12-27      0.2650      0.2650      0.2650      0.2650   \n",
              "4     2010-12-27  2010-12-28      0.2650      0.2650      0.2650      0.2650   \n",
              "...          ...         ...         ...         ...         ...         ...   \n",
              "4956  2024-07-18  2024-07-19  64159.9700  65088.9500  63253.1200  63966.1300   \n",
              "4957  2024-07-19  2024-07-20  63910.0400  67348.0400  63311.2600  66648.0300   \n",
              "4958  2024-07-20  2024-07-21  66699.5400  67536.3400  66263.2000  67182.4500   \n",
              "4959  2024-07-21  2024-07-22  67102.0000  68286.0300  66038.9600  68071.9900   \n",
              "4960  2024-07-22  2024-07-23  68178.0200  68428.0500  66617.5900  67587.9700   \n",
              "\n",
              "            Volume    Market Cap  \n",
              "0     1.151583e+11  1.312243e+12  \n",
              "1     0.000000e+00  1.228660e+06  \n",
              "2     0.000000e+00  1.238073e+06  \n",
              "3     0.000000e+00  1.312883e+06  \n",
              "4     0.000000e+00  1.316037e+06  \n",
              "...            ...           ...  \n",
              "4956  9.997780e+10  1.267402e+12  \n",
              "4957  1.016393e+11  1.281856e+12  \n",
              "4958  1.045535e+11  1.315703e+12  \n",
              "4959  8.967644e+10  1.323676e+12  \n",
              "4960  1.121743e+11  1.331304e+12  \n",
              "\n",
              "[4961 rows x 8 columns]"
            ],
            "text/html": [
              "\n",
              "  <div id=\"df-18b5cc8b-b061-4ca5-a96d-4acbf402c55d\" class=\"colab-df-container\">\n",
              "    <div>\n",
              "<style scoped>\n",
              "    .dataframe tbody tr th:only-of-type {\n",
              "        vertical-align: middle;\n",
              "    }\n",
              "\n",
              "    .dataframe tbody tr th {\n",
              "        vertical-align: top;\n",
              "    }\n",
              "\n",
              "    .dataframe thead th {\n",
              "        text-align: right;\n",
              "    }\n",
              "</style>\n",
              "<table border=\"1\" class=\"dataframe\">\n",
              "  <thead>\n",
              "    <tr style=\"text-align: right;\">\n",
              "      <th></th>\n",
              "      <th>Start</th>\n",
              "      <th>End</th>\n",
              "      <th>Open</th>\n",
              "      <th>High</th>\n",
              "      <th>Low</th>\n",
              "      <th>Close</th>\n",
              "      <th>Volume</th>\n",
              "      <th>Market Cap</th>\n",
              "    </tr>\n",
              "  </thead>\n",
              "  <tbody>\n",
              "    <tr>\n",
              "      <th>0</th>\n",
              "      <td>2024-07-23</td>\n",
              "      <td>2024-07-24</td>\n",
              "      <td>67537.9900</td>\n",
              "      <td>67693.9900</td>\n",
              "      <td>65528.3700</td>\n",
              "      <td>65914.5500</td>\n",
              "      <td>1.151583e+11</td>\n",
              "      <td>1.312243e+12</td>\n",
              "    </tr>\n",
              "    <tr>\n",
              "      <th>1</th>\n",
              "      <td>2010-12-24</td>\n",
              "      <td>2010-12-25</td>\n",
              "      <td>0.2480</td>\n",
              "      <td>0.2480</td>\n",
              "      <td>0.2480</td>\n",
              "      <td>0.2480</td>\n",
              "      <td>0.000000e+00</td>\n",
              "      <td>1.228660e+06</td>\n",
              "    </tr>\n",
              "    <tr>\n",
              "      <th>2</th>\n",
              "      <td>2010-12-25</td>\n",
              "      <td>2010-12-26</td>\n",
              "      <td>0.2499</td>\n",
              "      <td>0.2499</td>\n",
              "      <td>0.2499</td>\n",
              "      <td>0.2499</td>\n",
              "      <td>0.000000e+00</td>\n",
              "      <td>1.238073e+06</td>\n",
              "    </tr>\n",
              "    <tr>\n",
              "      <th>3</th>\n",
              "      <td>2010-12-26</td>\n",
              "      <td>2010-12-27</td>\n",
              "      <td>0.2650</td>\n",
              "      <td>0.2650</td>\n",
              "      <td>0.2650</td>\n",
              "      <td>0.2650</td>\n",
              "      <td>0.000000e+00</td>\n",
              "      <td>1.312883e+06</td>\n",
              "    </tr>\n",
              "    <tr>\n",
              "      <th>4</th>\n",
              "      <td>2010-12-27</td>\n",
              "      <td>2010-12-28</td>\n",
              "      <td>0.2650</td>\n",
              "      <td>0.2650</td>\n",
              "      <td>0.2650</td>\n",
              "      <td>0.2650</td>\n",
              "      <td>0.000000e+00</td>\n",
              "      <td>1.316037e+06</td>\n",
              "    </tr>\n",
              "    <tr>\n",
              "      <th>...</th>\n",
              "      <td>...</td>\n",
              "      <td>...</td>\n",
              "      <td>...</td>\n",
              "      <td>...</td>\n",
              "      <td>...</td>\n",
              "      <td>...</td>\n",
              "      <td>...</td>\n",
              "      <td>...</td>\n",
              "    </tr>\n",
              "    <tr>\n",
              "      <th>4956</th>\n",
              "      <td>2024-07-18</td>\n",
              "      <td>2024-07-19</td>\n",
              "      <td>64159.9700</td>\n",
              "      <td>65088.9500</td>\n",
              "      <td>63253.1200</td>\n",
              "      <td>63966.1300</td>\n",
              "      <td>9.997780e+10</td>\n",
              "      <td>1.267402e+12</td>\n",
              "    </tr>\n",
              "    <tr>\n",
              "      <th>4957</th>\n",
              "      <td>2024-07-19</td>\n",
              "      <td>2024-07-20</td>\n",
              "      <td>63910.0400</td>\n",
              "      <td>67348.0400</td>\n",
              "      <td>63311.2600</td>\n",
              "      <td>66648.0300</td>\n",
              "      <td>1.016393e+11</td>\n",
              "      <td>1.281856e+12</td>\n",
              "    </tr>\n",
              "    <tr>\n",
              "      <th>4958</th>\n",
              "      <td>2024-07-20</td>\n",
              "      <td>2024-07-21</td>\n",
              "      <td>66699.5400</td>\n",
              "      <td>67536.3400</td>\n",
              "      <td>66263.2000</td>\n",
              "      <td>67182.4500</td>\n",
              "      <td>1.045535e+11</td>\n",
              "      <td>1.315703e+12</td>\n",
              "    </tr>\n",
              "    <tr>\n",
              "      <th>4959</th>\n",
              "      <td>2024-07-21</td>\n",
              "      <td>2024-07-22</td>\n",
              "      <td>67102.0000</td>\n",
              "      <td>68286.0300</td>\n",
              "      <td>66038.9600</td>\n",
              "      <td>68071.9900</td>\n",
              "      <td>8.967644e+10</td>\n",
              "      <td>1.323676e+12</td>\n",
              "    </tr>\n",
              "    <tr>\n",
              "      <th>4960</th>\n",
              "      <td>2024-07-22</td>\n",
              "      <td>2024-07-23</td>\n",
              "      <td>68178.0200</td>\n",
              "      <td>68428.0500</td>\n",
              "      <td>66617.5900</td>\n",
              "      <td>67587.9700</td>\n",
              "      <td>1.121743e+11</td>\n",
              "      <td>1.331304e+12</td>\n",
              "    </tr>\n",
              "  </tbody>\n",
              "</table>\n",
              "<p>4961 rows × 8 columns</p>\n",
              "</div>\n",
              "    <div class=\"colab-df-buttons\">\n",
              "\n",
              "  <div class=\"colab-df-container\">\n",
              "    <button class=\"colab-df-convert\" onclick=\"convertToInteractive('df-18b5cc8b-b061-4ca5-a96d-4acbf402c55d')\"\n",
              "            title=\"Convert this dataframe to an interactive table.\"\n",
              "            style=\"display:none;\">\n",
              "\n",
              "  <svg xmlns=\"http://www.w3.org/2000/svg\" height=\"24px\" viewBox=\"0 -960 960 960\">\n",
              "    <path d=\"M120-120v-720h720v720H120Zm60-500h600v-160H180v160Zm220 220h160v-160H400v160Zm0 220h160v-160H400v160ZM180-400h160v-160H180v160Zm440 0h160v-160H620v160ZM180-180h160v-160H180v160Zm440 0h160v-160H620v160Z\"/>\n",
              "  </svg>\n",
              "    </button>\n",
              "\n",
              "  <style>\n",
              "    .colab-df-container {\n",
              "      display:flex;\n",
              "      gap: 12px;\n",
              "    }\n",
              "\n",
              "    .colab-df-convert {\n",
              "      background-color: #E8F0FE;\n",
              "      border: none;\n",
              "      border-radius: 50%;\n",
              "      cursor: pointer;\n",
              "      display: none;\n",
              "      fill: #1967D2;\n",
              "      height: 32px;\n",
              "      padding: 0 0 0 0;\n",
              "      width: 32px;\n",
              "    }\n",
              "\n",
              "    .colab-df-convert:hover {\n",
              "      background-color: #E2EBFA;\n",
              "      box-shadow: 0px 1px 2px rgba(60, 64, 67, 0.3), 0px 1px 3px 1px rgba(60, 64, 67, 0.15);\n",
              "      fill: #174EA6;\n",
              "    }\n",
              "\n",
              "    .colab-df-buttons div {\n",
              "      margin-bottom: 4px;\n",
              "    }\n",
              "\n",
              "    [theme=dark] .colab-df-convert {\n",
              "      background-color: #3B4455;\n",
              "      fill: #D2E3FC;\n",
              "    }\n",
              "\n",
              "    [theme=dark] .colab-df-convert:hover {\n",
              "      background-color: #434B5C;\n",
              "      box-shadow: 0px 1px 3px 1px rgba(0, 0, 0, 0.15);\n",
              "      filter: drop-shadow(0px 1px 2px rgba(0, 0, 0, 0.3));\n",
              "      fill: #FFFFFF;\n",
              "    }\n",
              "  </style>\n",
              "\n",
              "    <script>\n",
              "      const buttonEl =\n",
              "        document.querySelector('#df-18b5cc8b-b061-4ca5-a96d-4acbf402c55d button.colab-df-convert');\n",
              "      buttonEl.style.display =\n",
              "        google.colab.kernel.accessAllowed ? 'block' : 'none';\n",
              "\n",
              "      async function convertToInteractive(key) {\n",
              "        const element = document.querySelector('#df-18b5cc8b-b061-4ca5-a96d-4acbf402c55d');\n",
              "        const dataTable =\n",
              "          await google.colab.kernel.invokeFunction('convertToInteractive',\n",
              "                                                    [key], {});\n",
              "        if (!dataTable) return;\n",
              "\n",
              "        const docLinkHtml = 'Like what you see? Visit the ' +\n",
              "          '<a target=\"_blank\" href=https://colab.research.google.com/notebooks/data_table.ipynb>data table notebook</a>'\n",
              "          + ' to learn more about interactive tables.';\n",
              "        element.innerHTML = '';\n",
              "        dataTable['output_type'] = 'display_data';\n",
              "        await google.colab.output.renderOutput(dataTable, element);\n",
              "        const docLink = document.createElement('div');\n",
              "        docLink.innerHTML = docLinkHtml;\n",
              "        element.appendChild(docLink);\n",
              "      }\n",
              "    </script>\n",
              "  </div>\n",
              "\n",
              "\n",
              "<div id=\"df-e44ebd2d-ec0c-4459-8b22-82c058f7cb7a\">\n",
              "  <button class=\"colab-df-quickchart\" onclick=\"quickchart('df-e44ebd2d-ec0c-4459-8b22-82c058f7cb7a')\"\n",
              "            title=\"Suggest charts\"\n",
              "            style=\"display:none;\">\n",
              "\n",
              "<svg xmlns=\"http://www.w3.org/2000/svg\" height=\"24px\"viewBox=\"0 0 24 24\"\n",
              "     width=\"24px\">\n",
              "    <g>\n",
              "        <path d=\"M19 3H5c-1.1 0-2 .9-2 2v14c0 1.1.9 2 2 2h14c1.1 0 2-.9 2-2V5c0-1.1-.9-2-2-2zM9 17H7v-7h2v7zm4 0h-2V7h2v10zm4 0h-2v-4h2v4z\"/>\n",
              "    </g>\n",
              "</svg>\n",
              "  </button>\n",
              "\n",
              "<style>\n",
              "  .colab-df-quickchart {\n",
              "      --bg-color: #E8F0FE;\n",
              "      --fill-color: #1967D2;\n",
              "      --hover-bg-color: #E2EBFA;\n",
              "      --hover-fill-color: #174EA6;\n",
              "      --disabled-fill-color: #AAA;\n",
              "      --disabled-bg-color: #DDD;\n",
              "  }\n",
              "\n",
              "  [theme=dark] .colab-df-quickchart {\n",
              "      --bg-color: #3B4455;\n",
              "      --fill-color: #D2E3FC;\n",
              "      --hover-bg-color: #434B5C;\n",
              "      --hover-fill-color: #FFFFFF;\n",
              "      --disabled-bg-color: #3B4455;\n",
              "      --disabled-fill-color: #666;\n",
              "  }\n",
              "\n",
              "  .colab-df-quickchart {\n",
              "    background-color: var(--bg-color);\n",
              "    border: none;\n",
              "    border-radius: 50%;\n",
              "    cursor: pointer;\n",
              "    display: none;\n",
              "    fill: var(--fill-color);\n",
              "    height: 32px;\n",
              "    padding: 0;\n",
              "    width: 32px;\n",
              "  }\n",
              "\n",
              "  .colab-df-quickchart:hover {\n",
              "    background-color: var(--hover-bg-color);\n",
              "    box-shadow: 0 1px 2px rgba(60, 64, 67, 0.3), 0 1px 3px 1px rgba(60, 64, 67, 0.15);\n",
              "    fill: var(--button-hover-fill-color);\n",
              "  }\n",
              "\n",
              "  .colab-df-quickchart-complete:disabled,\n",
              "  .colab-df-quickchart-complete:disabled:hover {\n",
              "    background-color: var(--disabled-bg-color);\n",
              "    fill: var(--disabled-fill-color);\n",
              "    box-shadow: none;\n",
              "  }\n",
              "\n",
              "  .colab-df-spinner {\n",
              "    border: 2px solid var(--fill-color);\n",
              "    border-color: transparent;\n",
              "    border-bottom-color: var(--fill-color);\n",
              "    animation:\n",
              "      spin 1s steps(1) infinite;\n",
              "  }\n",
              "\n",
              "  @keyframes spin {\n",
              "    0% {\n",
              "      border-color: transparent;\n",
              "      border-bottom-color: var(--fill-color);\n",
              "      border-left-color: var(--fill-color);\n",
              "    }\n",
              "    20% {\n",
              "      border-color: transparent;\n",
              "      border-left-color: var(--fill-color);\n",
              "      border-top-color: var(--fill-color);\n",
              "    }\n",
              "    30% {\n",
              "      border-color: transparent;\n",
              "      border-left-color: var(--fill-color);\n",
              "      border-top-color: var(--fill-color);\n",
              "      border-right-color: var(--fill-color);\n",
              "    }\n",
              "    40% {\n",
              "      border-color: transparent;\n",
              "      border-right-color: var(--fill-color);\n",
              "      border-top-color: var(--fill-color);\n",
              "    }\n",
              "    60% {\n",
              "      border-color: transparent;\n",
              "      border-right-color: var(--fill-color);\n",
              "    }\n",
              "    80% {\n",
              "      border-color: transparent;\n",
              "      border-right-color: var(--fill-color);\n",
              "      border-bottom-color: var(--fill-color);\n",
              "    }\n",
              "    90% {\n",
              "      border-color: transparent;\n",
              "      border-bottom-color: var(--fill-color);\n",
              "    }\n",
              "  }\n",
              "</style>\n",
              "\n",
              "  <script>\n",
              "    async function quickchart(key) {\n",
              "      const quickchartButtonEl =\n",
              "        document.querySelector('#' + key + ' button');\n",
              "      quickchartButtonEl.disabled = true;  // To prevent multiple clicks.\n",
              "      quickchartButtonEl.classList.add('colab-df-spinner');\n",
              "      try {\n",
              "        const charts = await google.colab.kernel.invokeFunction(\n",
              "            'suggestCharts', [key], {});\n",
              "      } catch (error) {\n",
              "        console.error('Error during call to suggestCharts:', error);\n",
              "      }\n",
              "      quickchartButtonEl.classList.remove('colab-df-spinner');\n",
              "      quickchartButtonEl.classList.add('colab-df-quickchart-complete');\n",
              "    }\n",
              "    (() => {\n",
              "      let quickchartButtonEl =\n",
              "        document.querySelector('#df-e44ebd2d-ec0c-4459-8b22-82c058f7cb7a button');\n",
              "      quickchartButtonEl.style.display =\n",
              "        google.colab.kernel.accessAllowed ? 'block' : 'none';\n",
              "    })();\n",
              "  </script>\n",
              "</div>\n",
              "\n",
              "  <div id=\"id_80e7a6db-62f6-4dc0-ab00-94fd9a0223f5\">\n",
              "    <style>\n",
              "      .colab-df-generate {\n",
              "        background-color: #E8F0FE;\n",
              "        border: none;\n",
              "        border-radius: 50%;\n",
              "        cursor: pointer;\n",
              "        display: none;\n",
              "        fill: #1967D2;\n",
              "        height: 32px;\n",
              "        padding: 0 0 0 0;\n",
              "        width: 32px;\n",
              "      }\n",
              "\n",
              "      .colab-df-generate:hover {\n",
              "        background-color: #E2EBFA;\n",
              "        box-shadow: 0px 1px 2px rgba(60, 64, 67, 0.3), 0px 1px 3px 1px rgba(60, 64, 67, 0.15);\n",
              "        fill: #174EA6;\n",
              "      }\n",
              "\n",
              "      [theme=dark] .colab-df-generate {\n",
              "        background-color: #3B4455;\n",
              "        fill: #D2E3FC;\n",
              "      }\n",
              "\n",
              "      [theme=dark] .colab-df-generate:hover {\n",
              "        background-color: #434B5C;\n",
              "        box-shadow: 0px 1px 3px 1px rgba(0, 0, 0, 0.15);\n",
              "        filter: drop-shadow(0px 1px 2px rgba(0, 0, 0, 0.3));\n",
              "        fill: #FFFFFF;\n",
              "      }\n",
              "    </style>\n",
              "    <button class=\"colab-df-generate\" onclick=\"generateWithVariable('data')\"\n",
              "            title=\"Generate code using this dataframe.\"\n",
              "            style=\"display:none;\">\n",
              "\n",
              "  <svg xmlns=\"http://www.w3.org/2000/svg\" height=\"24px\"viewBox=\"0 0 24 24\"\n",
              "       width=\"24px\">\n",
              "    <path d=\"M7,19H8.4L18.45,9,17,7.55,7,17.6ZM5,21V16.75L18.45,3.32a2,2,0,0,1,2.83,0l1.4,1.43a1.91,1.91,0,0,1,.58,1.4,1.91,1.91,0,0,1-.58,1.4L9.25,21ZM18.45,9,17,7.55Zm-12,3A5.31,5.31,0,0,0,4.9,8.1,5.31,5.31,0,0,0,1,6.5,5.31,5.31,0,0,0,4.9,4.9,5.31,5.31,0,0,0,6.5,1,5.31,5.31,0,0,0,8.1,4.9,5.31,5.31,0,0,0,12,6.5,5.46,5.46,0,0,0,6.5,12Z\"/>\n",
              "  </svg>\n",
              "    </button>\n",
              "    <script>\n",
              "      (() => {\n",
              "      const buttonEl =\n",
              "        document.querySelector('#id_80e7a6db-62f6-4dc0-ab00-94fd9a0223f5 button.colab-df-generate');\n",
              "      buttonEl.style.display =\n",
              "        google.colab.kernel.accessAllowed ? 'block' : 'none';\n",
              "\n",
              "      buttonEl.onclick = () => {\n",
              "        google.colab.notebook.generateWithVariable('data');\n",
              "      }\n",
              "      })();\n",
              "    </script>\n",
              "  </div>\n",
              "\n",
              "    </div>\n",
              "  </div>\n"
            ],
            "application/vnd.google.colaboratory.intrinsic+json": {
              "type": "dataframe",
              "variable_name": "data",
              "summary": "{\n  \"name\": \"data\",\n  \"rows\": 4961,\n  \"fields\": [\n    {\n      \"column\": \"Start\",\n      \"properties\": {\n        \"dtype\": \"object\",\n        \"num_unique_values\": 4961,\n        \"samples\": [\n          \"2022-12-19\",\n          \"2012-01-20\",\n          \"2014-03-01\"\n        ],\n        \"semantic_type\": \"\",\n        \"description\": \"\"\n      }\n    },\n    {\n      \"column\": \"End\",\n      \"properties\": {\n        \"dtype\": \"object\",\n        \"num_unique_values\": 4961,\n        \"samples\": [\n          \"2022-12-20\",\n          \"2012-01-21\",\n          \"2014-03-02\"\n        ],\n        \"semantic_type\": \"\",\n        \"description\": \"\"\n      }\n    },\n    {\n      \"column\": \"Open\",\n      \"properties\": {\n        \"dtype\": \"number\",\n        \"std\": 17880.923249302505,\n        \"min\": 0.248,\n        \"max\": 73082.35,\n        \"num_unique_values\": 4900,\n        \"samples\": [\n          37405.3,\n          13554.960433884,\n          109.555\n        ],\n        \"semantic_type\": \"\",\n        \"description\": \"\"\n      }\n    },\n    {\n      \"column\": \"High\",\n      \"properties\": {\n        \"dtype\": \"number\",\n        \"std\": 18279.56118217101,\n        \"min\": 0.248,\n        \"max\": 73628.43,\n        \"num_unique_values\": 4897,\n        \"samples\": [\n          9.57,\n          0.82,\n          34826.34\n        ],\n        \"semantic_type\": \"\",\n        \"description\": \"\"\n      }\n    },\n    {\n      \"column\": \"Low\",\n      \"properties\": {\n        \"dtype\": \"number\",\n        \"std\": 17458.917150052584,\n        \"min\": 0.248,\n        \"max\": 71333.36,\n        \"num_unique_values\": 4899,\n        \"samples\": [\n          36912.95,\n          45015.584230531,\n          108.517\n        ],\n        \"semantic_type\": \"\",\n        \"description\": \"\"\n      }\n    },\n    {\n      \"column\": \"Close\",\n      \"properties\": {\n        \"dtype\": \"number\",\n        \"std\": 17899.213486390967,\n        \"min\": 0.248,\n        \"max\": 73087.95,\n        \"num_unique_values\": 4893,\n        \"samples\": [\n          9.57,\n          0.82,\n          6847.943670812\n        ],\n        \"semantic_type\": \"\",\n        \"description\": \"\"\n      }\n    },\n    {\n      \"column\": \"Volume\",\n      \"properties\": {\n        \"dtype\": \"number\",\n        \"std\": 34395983189.95988,\n        \"min\": 0.0,\n        \"max\": 212151513117.8704,\n        \"num_unique_values\": 3863,\n        \"samples\": [\n          14928537112.943417,\n          59976236430.22222,\n          172670297787.2005\n        ],\n        \"semantic_type\": \"\",\n        \"description\": \"\"\n      }\n    },\n    {\n      \"column\": \"Market Cap\",\n      \"properties\": {\n        \"dtype\": \"number\",\n        \"std\": 344666240444.2202,\n        \"min\": 1228660.1999999934,\n        \"max\": 1428409527164.4966,\n        \"num_unique_values\": 4953,\n        \"samples\": [\n          167350015163.71964,\n          122139362.90000065,\n          224500807943.6025\n        ],\n        \"semantic_type\": \"\",\n        \"description\": \"\"\n      }\n    }\n  ]\n}"
            }
          },
          "metadata": {},
          "execution_count": 7
        }
      ]
    },
    {
      "cell_type": "code",
      "source": [
        "data = data.drop(0)"
      ],
      "metadata": {
        "id": "WIEXqL_yMq0B"
      },
      "execution_count": 8,
      "outputs": []
    },
    {
      "cell_type": "code",
      "source": [
        "data.head(5)"
      ],
      "metadata": {
        "colab": {
          "base_uri": "https://localhost:8080/",
          "height": 206
        },
        "id": "NZJCnkA-Erxb",
        "outputId": "89c3e6a0-08a5-4456-db07-297a984396f3"
      },
      "execution_count": 9,
      "outputs": [
        {
          "output_type": "execute_result",
          "data": {
            "text/plain": [
              "        Start         End    Open    High     Low   Close  Volume  \\\n",
              "1  2010-12-24  2010-12-25  0.2480  0.2480  0.2480  0.2480     0.0   \n",
              "2  2010-12-25  2010-12-26  0.2499  0.2499  0.2499  0.2499     0.0   \n",
              "3  2010-12-26  2010-12-27  0.2650  0.2650  0.2650  0.2650     0.0   \n",
              "4  2010-12-27  2010-12-28  0.2650  0.2650  0.2650  0.2650     0.0   \n",
              "5  2010-12-28  2010-12-29  0.2810  0.2810  0.2810  0.2810     0.0   \n",
              "\n",
              "     Market Cap  \n",
              "1  1.228660e+06  \n",
              "2  1.238073e+06  \n",
              "3  1.312883e+06  \n",
              "4  1.316037e+06  \n",
              "5  1.399982e+06  "
            ],
            "text/html": [
              "\n",
              "  <div id=\"df-a0174230-367d-4f1e-b29b-f69d57957370\" class=\"colab-df-container\">\n",
              "    <div>\n",
              "<style scoped>\n",
              "    .dataframe tbody tr th:only-of-type {\n",
              "        vertical-align: middle;\n",
              "    }\n",
              "\n",
              "    .dataframe tbody tr th {\n",
              "        vertical-align: top;\n",
              "    }\n",
              "\n",
              "    .dataframe thead th {\n",
              "        text-align: right;\n",
              "    }\n",
              "</style>\n",
              "<table border=\"1\" class=\"dataframe\">\n",
              "  <thead>\n",
              "    <tr style=\"text-align: right;\">\n",
              "      <th></th>\n",
              "      <th>Start</th>\n",
              "      <th>End</th>\n",
              "      <th>Open</th>\n",
              "      <th>High</th>\n",
              "      <th>Low</th>\n",
              "      <th>Close</th>\n",
              "      <th>Volume</th>\n",
              "      <th>Market Cap</th>\n",
              "    </tr>\n",
              "  </thead>\n",
              "  <tbody>\n",
              "    <tr>\n",
              "      <th>1</th>\n",
              "      <td>2010-12-24</td>\n",
              "      <td>2010-12-25</td>\n",
              "      <td>0.2480</td>\n",
              "      <td>0.2480</td>\n",
              "      <td>0.2480</td>\n",
              "      <td>0.2480</td>\n",
              "      <td>0.0</td>\n",
              "      <td>1.228660e+06</td>\n",
              "    </tr>\n",
              "    <tr>\n",
              "      <th>2</th>\n",
              "      <td>2010-12-25</td>\n",
              "      <td>2010-12-26</td>\n",
              "      <td>0.2499</td>\n",
              "      <td>0.2499</td>\n",
              "      <td>0.2499</td>\n",
              "      <td>0.2499</td>\n",
              "      <td>0.0</td>\n",
              "      <td>1.238073e+06</td>\n",
              "    </tr>\n",
              "    <tr>\n",
              "      <th>3</th>\n",
              "      <td>2010-12-26</td>\n",
              "      <td>2010-12-27</td>\n",
              "      <td>0.2650</td>\n",
              "      <td>0.2650</td>\n",
              "      <td>0.2650</td>\n",
              "      <td>0.2650</td>\n",
              "      <td>0.0</td>\n",
              "      <td>1.312883e+06</td>\n",
              "    </tr>\n",
              "    <tr>\n",
              "      <th>4</th>\n",
              "      <td>2010-12-27</td>\n",
              "      <td>2010-12-28</td>\n",
              "      <td>0.2650</td>\n",
              "      <td>0.2650</td>\n",
              "      <td>0.2650</td>\n",
              "      <td>0.2650</td>\n",
              "      <td>0.0</td>\n",
              "      <td>1.316037e+06</td>\n",
              "    </tr>\n",
              "    <tr>\n",
              "      <th>5</th>\n",
              "      <td>2010-12-28</td>\n",
              "      <td>2010-12-29</td>\n",
              "      <td>0.2810</td>\n",
              "      <td>0.2810</td>\n",
              "      <td>0.2810</td>\n",
              "      <td>0.2810</td>\n",
              "      <td>0.0</td>\n",
              "      <td>1.399982e+06</td>\n",
              "    </tr>\n",
              "  </tbody>\n",
              "</table>\n",
              "</div>\n",
              "    <div class=\"colab-df-buttons\">\n",
              "\n",
              "  <div class=\"colab-df-container\">\n",
              "    <button class=\"colab-df-convert\" onclick=\"convertToInteractive('df-a0174230-367d-4f1e-b29b-f69d57957370')\"\n",
              "            title=\"Convert this dataframe to an interactive table.\"\n",
              "            style=\"display:none;\">\n",
              "\n",
              "  <svg xmlns=\"http://www.w3.org/2000/svg\" height=\"24px\" viewBox=\"0 -960 960 960\">\n",
              "    <path d=\"M120-120v-720h720v720H120Zm60-500h600v-160H180v160Zm220 220h160v-160H400v160Zm0 220h160v-160H400v160ZM180-400h160v-160H180v160Zm440 0h160v-160H620v160ZM180-180h160v-160H180v160Zm440 0h160v-160H620v160Z\"/>\n",
              "  </svg>\n",
              "    </button>\n",
              "\n",
              "  <style>\n",
              "    .colab-df-container {\n",
              "      display:flex;\n",
              "      gap: 12px;\n",
              "    }\n",
              "\n",
              "    .colab-df-convert {\n",
              "      background-color: #E8F0FE;\n",
              "      border: none;\n",
              "      border-radius: 50%;\n",
              "      cursor: pointer;\n",
              "      display: none;\n",
              "      fill: #1967D2;\n",
              "      height: 32px;\n",
              "      padding: 0 0 0 0;\n",
              "      width: 32px;\n",
              "    }\n",
              "\n",
              "    .colab-df-convert:hover {\n",
              "      background-color: #E2EBFA;\n",
              "      box-shadow: 0px 1px 2px rgba(60, 64, 67, 0.3), 0px 1px 3px 1px rgba(60, 64, 67, 0.15);\n",
              "      fill: #174EA6;\n",
              "    }\n",
              "\n",
              "    .colab-df-buttons div {\n",
              "      margin-bottom: 4px;\n",
              "    }\n",
              "\n",
              "    [theme=dark] .colab-df-convert {\n",
              "      background-color: #3B4455;\n",
              "      fill: #D2E3FC;\n",
              "    }\n",
              "\n",
              "    [theme=dark] .colab-df-convert:hover {\n",
              "      background-color: #434B5C;\n",
              "      box-shadow: 0px 1px 3px 1px rgba(0, 0, 0, 0.15);\n",
              "      filter: drop-shadow(0px 1px 2px rgba(0, 0, 0, 0.3));\n",
              "      fill: #FFFFFF;\n",
              "    }\n",
              "  </style>\n",
              "\n",
              "    <script>\n",
              "      const buttonEl =\n",
              "        document.querySelector('#df-a0174230-367d-4f1e-b29b-f69d57957370 button.colab-df-convert');\n",
              "      buttonEl.style.display =\n",
              "        google.colab.kernel.accessAllowed ? 'block' : 'none';\n",
              "\n",
              "      async function convertToInteractive(key) {\n",
              "        const element = document.querySelector('#df-a0174230-367d-4f1e-b29b-f69d57957370');\n",
              "        const dataTable =\n",
              "          await google.colab.kernel.invokeFunction('convertToInteractive',\n",
              "                                                    [key], {});\n",
              "        if (!dataTable) return;\n",
              "\n",
              "        const docLinkHtml = 'Like what you see? Visit the ' +\n",
              "          '<a target=\"_blank\" href=https://colab.research.google.com/notebooks/data_table.ipynb>data table notebook</a>'\n",
              "          + ' to learn more about interactive tables.';\n",
              "        element.innerHTML = '';\n",
              "        dataTable['output_type'] = 'display_data';\n",
              "        await google.colab.output.renderOutput(dataTable, element);\n",
              "        const docLink = document.createElement('div');\n",
              "        docLink.innerHTML = docLinkHtml;\n",
              "        element.appendChild(docLink);\n",
              "      }\n",
              "    </script>\n",
              "  </div>\n",
              "\n",
              "\n",
              "<div id=\"df-de377cf5-847f-4d65-b236-738120b10648\">\n",
              "  <button class=\"colab-df-quickchart\" onclick=\"quickchart('df-de377cf5-847f-4d65-b236-738120b10648')\"\n",
              "            title=\"Suggest charts\"\n",
              "            style=\"display:none;\">\n",
              "\n",
              "<svg xmlns=\"http://www.w3.org/2000/svg\" height=\"24px\"viewBox=\"0 0 24 24\"\n",
              "     width=\"24px\">\n",
              "    <g>\n",
              "        <path d=\"M19 3H5c-1.1 0-2 .9-2 2v14c0 1.1.9 2 2 2h14c1.1 0 2-.9 2-2V5c0-1.1-.9-2-2-2zM9 17H7v-7h2v7zm4 0h-2V7h2v10zm4 0h-2v-4h2v4z\"/>\n",
              "    </g>\n",
              "</svg>\n",
              "  </button>\n",
              "\n",
              "<style>\n",
              "  .colab-df-quickchart {\n",
              "      --bg-color: #E8F0FE;\n",
              "      --fill-color: #1967D2;\n",
              "      --hover-bg-color: #E2EBFA;\n",
              "      --hover-fill-color: #174EA6;\n",
              "      --disabled-fill-color: #AAA;\n",
              "      --disabled-bg-color: #DDD;\n",
              "  }\n",
              "\n",
              "  [theme=dark] .colab-df-quickchart {\n",
              "      --bg-color: #3B4455;\n",
              "      --fill-color: #D2E3FC;\n",
              "      --hover-bg-color: #434B5C;\n",
              "      --hover-fill-color: #FFFFFF;\n",
              "      --disabled-bg-color: #3B4455;\n",
              "      --disabled-fill-color: #666;\n",
              "  }\n",
              "\n",
              "  .colab-df-quickchart {\n",
              "    background-color: var(--bg-color);\n",
              "    border: none;\n",
              "    border-radius: 50%;\n",
              "    cursor: pointer;\n",
              "    display: none;\n",
              "    fill: var(--fill-color);\n",
              "    height: 32px;\n",
              "    padding: 0;\n",
              "    width: 32px;\n",
              "  }\n",
              "\n",
              "  .colab-df-quickchart:hover {\n",
              "    background-color: var(--hover-bg-color);\n",
              "    box-shadow: 0 1px 2px rgba(60, 64, 67, 0.3), 0 1px 3px 1px rgba(60, 64, 67, 0.15);\n",
              "    fill: var(--button-hover-fill-color);\n",
              "  }\n",
              "\n",
              "  .colab-df-quickchart-complete:disabled,\n",
              "  .colab-df-quickchart-complete:disabled:hover {\n",
              "    background-color: var(--disabled-bg-color);\n",
              "    fill: var(--disabled-fill-color);\n",
              "    box-shadow: none;\n",
              "  }\n",
              "\n",
              "  .colab-df-spinner {\n",
              "    border: 2px solid var(--fill-color);\n",
              "    border-color: transparent;\n",
              "    border-bottom-color: var(--fill-color);\n",
              "    animation:\n",
              "      spin 1s steps(1) infinite;\n",
              "  }\n",
              "\n",
              "  @keyframes spin {\n",
              "    0% {\n",
              "      border-color: transparent;\n",
              "      border-bottom-color: var(--fill-color);\n",
              "      border-left-color: var(--fill-color);\n",
              "    }\n",
              "    20% {\n",
              "      border-color: transparent;\n",
              "      border-left-color: var(--fill-color);\n",
              "      border-top-color: var(--fill-color);\n",
              "    }\n",
              "    30% {\n",
              "      border-color: transparent;\n",
              "      border-left-color: var(--fill-color);\n",
              "      border-top-color: var(--fill-color);\n",
              "      border-right-color: var(--fill-color);\n",
              "    }\n",
              "    40% {\n",
              "      border-color: transparent;\n",
              "      border-right-color: var(--fill-color);\n",
              "      border-top-color: var(--fill-color);\n",
              "    }\n",
              "    60% {\n",
              "      border-color: transparent;\n",
              "      border-right-color: var(--fill-color);\n",
              "    }\n",
              "    80% {\n",
              "      border-color: transparent;\n",
              "      border-right-color: var(--fill-color);\n",
              "      border-bottom-color: var(--fill-color);\n",
              "    }\n",
              "    90% {\n",
              "      border-color: transparent;\n",
              "      border-bottom-color: var(--fill-color);\n",
              "    }\n",
              "  }\n",
              "</style>\n",
              "\n",
              "  <script>\n",
              "    async function quickchart(key) {\n",
              "      const quickchartButtonEl =\n",
              "        document.querySelector('#' + key + ' button');\n",
              "      quickchartButtonEl.disabled = true;  // To prevent multiple clicks.\n",
              "      quickchartButtonEl.classList.add('colab-df-spinner');\n",
              "      try {\n",
              "        const charts = await google.colab.kernel.invokeFunction(\n",
              "            'suggestCharts', [key], {});\n",
              "      } catch (error) {\n",
              "        console.error('Error during call to suggestCharts:', error);\n",
              "      }\n",
              "      quickchartButtonEl.classList.remove('colab-df-spinner');\n",
              "      quickchartButtonEl.classList.add('colab-df-quickchart-complete');\n",
              "    }\n",
              "    (() => {\n",
              "      let quickchartButtonEl =\n",
              "        document.querySelector('#df-de377cf5-847f-4d65-b236-738120b10648 button');\n",
              "      quickchartButtonEl.style.display =\n",
              "        google.colab.kernel.accessAllowed ? 'block' : 'none';\n",
              "    })();\n",
              "  </script>\n",
              "</div>\n",
              "\n",
              "    </div>\n",
              "  </div>\n"
            ],
            "application/vnd.google.colaboratory.intrinsic+json": {
              "type": "dataframe",
              "variable_name": "data",
              "repr_error": "0"
            }
          },
          "metadata": {},
          "execution_count": 9
        }
      ]
    },
    {
      "cell_type": "markdown",
      "source": [
        "**making windows and horizons**"
      ],
      "metadata": {
        "id": "B-4FLLxykxeP"
      }
    },
    {
      "cell_type": "code",
      "source": [
        "def make_window_labels(window_size,label_size):\n",
        "  a = numpy.expand_dims(numpy.arange(window_size+ label_size), axis=0)\n",
        "  b = a + numpy.expand_dims(numpy.arange(4916 - (window_size + label_size - 1)), axis=0).T\n",
        "  return (a,b)\n",
        "a,b=make_window_labels(30,7)\n",
        "print(a)\n",
        "print(b)"
      ],
      "metadata": {
        "colab": {
          "base_uri": "https://localhost:8080/"
        },
        "id": "KCX8AnU-HLFK",
        "outputId": "6565f011-f32d-45d5-ec7b-12de53474db2"
      },
      "execution_count": 10,
      "outputs": [
        {
          "output_type": "stream",
          "name": "stdout",
          "text": [
            "[[ 0  1  2  3  4  5  6  7  8  9 10 11 12 13 14 15 16 17 18 19 20 21 22 23\n",
            "  24 25 26 27 28 29 30 31 32 33 34 35 36]]\n",
            "[[   0    1    2 ...   34   35   36]\n",
            " [   1    2    3 ...   35   36   37]\n",
            " [   2    3    4 ...   36   37   38]\n",
            " ...\n",
            " [4877 4878 4879 ... 4911 4912 4913]\n",
            " [4878 4879 4880 ... 4912 4913 4914]\n",
            " [4879 4880 4881 ... 4913 4914 4915]]\n"
          ]
        }
      ]
    },
    {
      "cell_type": "code",
      "source": [
        "k=numpy.array(data.Open)"
      ],
      "metadata": {
        "id": "AGfsXLVVWRzl"
      },
      "execution_count": 11,
      "outputs": []
    },
    {
      "cell_type": "code",
      "source": [
        "windows=k[b]"
      ],
      "metadata": {
        "id": "rrsMXKyGV70W"
      },
      "execution_count": 12,
      "outputs": []
    },
    {
      "cell_type": "code",
      "source": [
        "window,label=windows[:,:-7],windows[:,-7:]"
      ],
      "metadata": {
        "id": "hd5noP2dV_5K"
      },
      "execution_count": 13,
      "outputs": []
    },
    {
      "cell_type": "code",
      "source": [
        "window.shape,label.shape"
      ],
      "metadata": {
        "colab": {
          "base_uri": "https://localhost:8080/"
        },
        "id": "n4bWAjbbWb8i",
        "outputId": "0ab1f86d-61bf-469e-df13-217f98cf0eca"
      },
      "execution_count": 14,
      "outputs": [
        {
          "output_type": "execute_result",
          "data": {
            "text/plain": [
              "((4880, 30), (4880, 7))"
            ]
          },
          "metadata": {},
          "execution_count": 14
        }
      ]
    },
    {
      "cell_type": "code",
      "source": [
        "window"
      ],
      "metadata": {
        "colab": {
          "base_uri": "https://localhost:8080/"
        },
        "id": "FbzNMHWbWfX9",
        "outputId": "2b0d0ad3-89bf-4f96-d7ad-ae12f744758c"
      },
      "execution_count": 15,
      "outputs": [
        {
          "output_type": "execute_result",
          "data": {
            "text/plain": [
              "array([[2.480000e-01, 2.499000e-01, 2.650000e-01, ..., 3.900000e-01,\n",
              "        4.199000e-01, 4.443000e-01],\n",
              "       [2.499000e-01, 2.650000e-01, 2.650000e-01, ..., 4.199000e-01,\n",
              "        4.443000e-01, 4.424000e-01],\n",
              "       [2.650000e-01, 2.650000e-01, 2.810000e-01, ..., 4.443000e-01,\n",
              "        4.424000e-01, 4.199000e-01],\n",
              "       ...,\n",
              "       [6.066984e+04, 5.836501e+04, 5.911248e+04, ..., 6.937771e+04,\n",
              "        6.839842e+04, 6.757528e+04],\n",
              "       [5.836501e+04, 5.911248e+04, 6.287012e+04, ..., 6.839842e+04,\n",
              "        6.757528e+04, 6.835212e+04],\n",
              "       [5.911248e+04, 6.287012e+04, 6.389395e+04, ..., 6.757528e+04,\n",
              "        6.835212e+04, 6.754559e+04]])"
            ]
          },
          "metadata": {},
          "execution_count": 15
        }
      ]
    },
    {
      "cell_type": "code",
      "source": [
        "window.shape"
      ],
      "metadata": {
        "colab": {
          "base_uri": "https://localhost:8080/"
        },
        "id": "ffBZUJUlwNOO",
        "outputId": "be1bcb94-fb60-46a9-ea17-31e6f5c9a71e"
      },
      "execution_count": 16,
      "outputs": [
        {
          "output_type": "execute_result",
          "data": {
            "text/plain": [
              "(4880, 30)"
            ]
          },
          "metadata": {},
          "execution_count": 16
        }
      ]
    },
    {
      "cell_type": "code",
      "source": [
        "4880*0.2"
      ],
      "metadata": {
        "colab": {
          "base_uri": "https://localhost:8080/"
        },
        "id": "vfDUT_nvWp42",
        "outputId": "5ee22ab2-2c20-43c7-96db-867417efb275"
      },
      "execution_count": 17,
      "outputs": [
        {
          "output_type": "execute_result",
          "data": {
            "text/plain": [
              "976.0"
            ]
          },
          "metadata": {},
          "execution_count": 17
        }
      ]
    },
    {
      "cell_type": "code",
      "source": [
        "4880-976"
      ],
      "metadata": {
        "colab": {
          "base_uri": "https://localhost:8080/"
        },
        "id": "xF1ww2jMyuc4",
        "outputId": "ce7a3589-64b8-4f78-8499-aaf760704add"
      },
      "execution_count": 18,
      "outputs": [
        {
          "output_type": "execute_result",
          "data": {
            "text/plain": [
              "3904"
            ]
          },
          "metadata": {},
          "execution_count": 18
        }
      ]
    },
    {
      "cell_type": "markdown",
      "source": [
        "**splitting into training and testing**"
      ],
      "metadata": {
        "id": "GrF9-dqgk2eL"
      }
    },
    {
      "cell_type": "code",
      "source": [
        "xtrain,xtest,ytrain,ytest=window[:3904],window[3904:],label[:3904],label[3904:]"
      ],
      "metadata": {
        "id": "FbKDnGvJWtjL"
      },
      "execution_count": 19,
      "outputs": []
    },
    {
      "cell_type": "code",
      "source": [],
      "metadata": {
        "id": "6NYcP2fIGyVs"
      },
      "execution_count": 19,
      "outputs": []
    },
    {
      "cell_type": "markdown",
      "source": [
        "**noraml Dense Model**"
      ],
      "metadata": {
        "id": "6N8S7blylNAo"
      }
    },
    {
      "cell_type": "code",
      "source": [
        "model=tensorflow.keras.Sequential([\n",
        "    tensorflow.keras.layers.Lambda(lambda x:tensorflow.expand_dims(x,axis=1)),\n",
        "    tensorflow.keras.layers.Dense(10,activation='relu',input_shape=[30]),\n",
        "    tensorflow.keras.layers.Dense(32,activation='relu'),\n",
        "    tensorflow.keras.layers.Dense(128,activation='relu'),\n",
        "    tensorflow.keras.layers.Dense(64,activation='relu'),\n",
        "    tensorflow.keras.layers.Dense(32,activation='relu'),\n",
        "    tensorflow.keras.layers.Dense(1)\n",
        "])"
      ],
      "metadata": {
        "id": "o_qYupfmW1Ow"
      },
      "execution_count": 20,
      "outputs": []
    },
    {
      "cell_type": "code",
      "source": [
        "model.compile(optimizer=tensorflow.keras.optimizers.Adam(),\n",
        "              loss=tensorflow.keras.losses.MeanAbsoluteError(),\n",
        "              )"
      ],
      "metadata": {
        "id": "1yO3Sl6yXJYb"
      },
      "execution_count": 21,
      "outputs": []
    },
    {
      "cell_type": "code",
      "source": [
        "history=model.fit(xtrain,ytrain,epochs=100,validation_data=(xtest,ytest))"
      ],
      "metadata": {
        "colab": {
          "base_uri": "https://localhost:8080/"
        },
        "id": "cobZRs4QXFa5",
        "outputId": "98054e81-b76e-40b9-f05d-ee75e866323a"
      },
      "execution_count": 22,
      "outputs": [
        {
          "output_type": "stream",
          "name": "stdout",
          "text": [
            "Epoch 1/100\n",
            "122/122 [==============================] - 5s 20ms/step - loss: 1448.1465 - val_loss: 2006.4220\n",
            "Epoch 2/100\n",
            "122/122 [==============================] - 1s 7ms/step - loss: 508.4193 - val_loss: 2302.2183\n",
            "Epoch 3/100\n",
            "122/122 [==============================] - 1s 9ms/step - loss: 522.2665 - val_loss: 2051.1362\n",
            "Epoch 4/100\n",
            "122/122 [==============================] - 1s 10ms/step - loss: 491.6569 - val_loss: 2156.0042\n",
            "Epoch 5/100\n",
            "122/122 [==============================] - 1s 6ms/step - loss: 501.8986 - val_loss: 1843.5282\n",
            "Epoch 6/100\n",
            "122/122 [==============================] - 1s 8ms/step - loss: 455.0622 - val_loss: 1699.3020\n",
            "Epoch 7/100\n",
            "122/122 [==============================] - 1s 11ms/step - loss: 521.5183 - val_loss: 1873.7909\n",
            "Epoch 8/100\n",
            "122/122 [==============================] - 1s 11ms/step - loss: 464.6516 - val_loss: 2424.1069\n",
            "Epoch 9/100\n",
            "122/122 [==============================] - 1s 9ms/step - loss: 489.9815 - val_loss: 1669.2456\n",
            "Epoch 10/100\n",
            "122/122 [==============================] - 0s 3ms/step - loss: 453.7125 - val_loss: 1666.5168\n",
            "Epoch 11/100\n",
            "122/122 [==============================] - 0s 3ms/step - loss: 490.9500 - val_loss: 2119.8523\n",
            "Epoch 12/100\n",
            "122/122 [==============================] - 0s 3ms/step - loss: 444.5167 - val_loss: 2362.0930\n",
            "Epoch 13/100\n",
            "122/122 [==============================] - 0s 3ms/step - loss: 454.8853 - val_loss: 2372.9600\n",
            "Epoch 14/100\n",
            "122/122 [==============================] - 0s 3ms/step - loss: 465.5953 - val_loss: 1905.0912\n",
            "Epoch 15/100\n",
            "122/122 [==============================] - 0s 4ms/step - loss: 451.9618 - val_loss: 1635.3394\n",
            "Epoch 16/100\n",
            "122/122 [==============================] - 0s 3ms/step - loss: 504.9751 - val_loss: 1680.2468\n",
            "Epoch 17/100\n",
            "122/122 [==============================] - 0s 3ms/step - loss: 446.9462 - val_loss: 1607.0724\n",
            "Epoch 18/100\n",
            "122/122 [==============================] - 0s 4ms/step - loss: 451.1832 - val_loss: 1784.2170\n",
            "Epoch 19/100\n",
            "122/122 [==============================] - 0s 3ms/step - loss: 452.8284 - val_loss: 1691.8822\n",
            "Epoch 20/100\n",
            "122/122 [==============================] - 0s 3ms/step - loss: 430.5279 - val_loss: 1654.0323\n",
            "Epoch 21/100\n",
            "122/122 [==============================] - 0s 3ms/step - loss: 428.2756 - val_loss: 1801.4478\n",
            "Epoch 22/100\n",
            "122/122 [==============================] - 1s 4ms/step - loss: 479.2740 - val_loss: 2257.5789\n",
            "Epoch 23/100\n",
            "122/122 [==============================] - 0s 3ms/step - loss: 442.1740 - val_loss: 1776.5046\n",
            "Epoch 24/100\n",
            "122/122 [==============================] - 0s 3ms/step - loss: 448.1125 - val_loss: 1671.0424\n",
            "Epoch 25/100\n",
            "122/122 [==============================] - 0s 3ms/step - loss: 451.8004 - val_loss: 1754.0554\n",
            "Epoch 26/100\n",
            "122/122 [==============================] - 0s 3ms/step - loss: 448.5784 - val_loss: 1913.9452\n",
            "Epoch 27/100\n",
            "122/122 [==============================] - 0s 3ms/step - loss: 441.6045 - val_loss: 1603.6643\n",
            "Epoch 28/100\n",
            "122/122 [==============================] - 0s 3ms/step - loss: 487.9833 - val_loss: 1750.8678\n",
            "Epoch 29/100\n",
            "122/122 [==============================] - 0s 3ms/step - loss: 451.1264 - val_loss: 1597.0829\n",
            "Epoch 30/100\n",
            "122/122 [==============================] - 0s 3ms/step - loss: 439.6159 - val_loss: 3350.0891\n",
            "Epoch 31/100\n",
            "122/122 [==============================] - 0s 3ms/step - loss: 501.8811 - val_loss: 1872.3766\n",
            "Epoch 32/100\n",
            "122/122 [==============================] - 0s 3ms/step - loss: 432.5719 - val_loss: 2783.0789\n",
            "Epoch 33/100\n",
            "122/122 [==============================] - 0s 3ms/step - loss: 470.2156 - val_loss: 1933.9489\n",
            "Epoch 34/100\n",
            "122/122 [==============================] - 0s 3ms/step - loss: 428.4971 - val_loss: 1904.7130\n",
            "Epoch 35/100\n",
            "122/122 [==============================] - 1s 5ms/step - loss: 453.7416 - val_loss: 1658.2437\n",
            "Epoch 36/100\n",
            "122/122 [==============================] - 1s 5ms/step - loss: 420.4620 - val_loss: 1703.7321\n",
            "Epoch 37/100\n",
            "122/122 [==============================] - 1s 5ms/step - loss: 424.2813 - val_loss: 1573.4105\n",
            "Epoch 38/100\n",
            "122/122 [==============================] - 1s 6ms/step - loss: 431.2997 - val_loss: 1729.3640\n",
            "Epoch 39/100\n",
            "122/122 [==============================] - 1s 5ms/step - loss: 421.7130 - val_loss: 1637.4658\n",
            "Epoch 40/100\n",
            "122/122 [==============================] - 0s 4ms/step - loss: 467.5263 - val_loss: 1573.8787\n",
            "Epoch 41/100\n",
            "122/122 [==============================] - 0s 3ms/step - loss: 426.1410 - val_loss: 1567.8700\n",
            "Epoch 42/100\n",
            "122/122 [==============================] - 0s 3ms/step - loss: 433.1779 - val_loss: 1616.3444\n",
            "Epoch 43/100\n",
            "122/122 [==============================] - 0s 3ms/step - loss: 410.6642 - val_loss: 1735.3729\n",
            "Epoch 44/100\n",
            "122/122 [==============================] - 0s 3ms/step - loss: 418.9055 - val_loss: 2401.0928\n",
            "Epoch 45/100\n",
            "122/122 [==============================] - 0s 4ms/step - loss: 440.6858 - val_loss: 1625.8785\n",
            "Epoch 46/100\n",
            "122/122 [==============================] - 0s 3ms/step - loss: 428.9361 - val_loss: 2091.7246\n",
            "Epoch 47/100\n",
            "122/122 [==============================] - 0s 4ms/step - loss: 475.6202 - val_loss: 1553.9485\n",
            "Epoch 48/100\n",
            "122/122 [==============================] - 0s 3ms/step - loss: 424.7671 - val_loss: 1591.9557\n",
            "Epoch 49/100\n",
            "122/122 [==============================] - 0s 3ms/step - loss: 421.2682 - val_loss: 2064.2058\n",
            "Epoch 50/100\n",
            "122/122 [==============================] - 0s 3ms/step - loss: 434.4253 - val_loss: 1560.5636\n",
            "Epoch 51/100\n",
            "122/122 [==============================] - 0s 3ms/step - loss: 412.4852 - val_loss: 1700.8518\n",
            "Epoch 52/100\n",
            "122/122 [==============================] - 0s 4ms/step - loss: 431.9481 - val_loss: 3612.7107\n",
            "Epoch 53/100\n",
            "122/122 [==============================] - 0s 3ms/step - loss: 433.1145 - val_loss: 1542.3065\n",
            "Epoch 54/100\n",
            "122/122 [==============================] - 0s 3ms/step - loss: 428.0051 - val_loss: 1637.2053\n",
            "Epoch 55/100\n",
            "122/122 [==============================] - 0s 3ms/step - loss: 416.3118 - val_loss: 2127.0361\n",
            "Epoch 56/100\n",
            "122/122 [==============================] - 0s 3ms/step - loss: 425.9160 - val_loss: 1590.8508\n",
            "Epoch 57/100\n",
            "122/122 [==============================] - 0s 3ms/step - loss: 420.2456 - val_loss: 1777.9471\n",
            "Epoch 58/100\n",
            "122/122 [==============================] - 0s 3ms/step - loss: 420.5223 - val_loss: 1712.7155\n",
            "Epoch 59/100\n",
            "122/122 [==============================] - 0s 3ms/step - loss: 423.1502 - val_loss: 2047.9235\n",
            "Epoch 60/100\n",
            "122/122 [==============================] - 0s 3ms/step - loss: 423.9898 - val_loss: 1587.2319\n",
            "Epoch 61/100\n",
            "122/122 [==============================] - 0s 3ms/step - loss: 409.6953 - val_loss: 1901.8459\n",
            "Epoch 62/100\n",
            "122/122 [==============================] - 0s 3ms/step - loss: 429.1567 - val_loss: 1871.4628\n",
            "Epoch 63/100\n",
            "122/122 [==============================] - 0s 3ms/step - loss: 431.4944 - val_loss: 1549.0469\n",
            "Epoch 64/100\n",
            "122/122 [==============================] - 0s 3ms/step - loss: 415.4608 - val_loss: 1699.4948\n",
            "Epoch 65/100\n",
            "122/122 [==============================] - 1s 5ms/step - loss: 402.7003 - val_loss: 1792.6965\n",
            "Epoch 66/100\n",
            "122/122 [==============================] - 1s 5ms/step - loss: 409.9936 - val_loss: 1873.7290\n",
            "Epoch 67/100\n",
            "122/122 [==============================] - 1s 6ms/step - loss: 443.9059 - val_loss: 1978.0298\n",
            "Epoch 68/100\n",
            "122/122 [==============================] - 1s 6ms/step - loss: 426.2041 - val_loss: 1553.4827\n",
            "Epoch 69/100\n",
            "122/122 [==============================] - 1s 5ms/step - loss: 420.2191 - val_loss: 1942.8413\n",
            "Epoch 70/100\n",
            "122/122 [==============================] - 0s 3ms/step - loss: 470.2568 - val_loss: 1891.6572\n",
            "Epoch 71/100\n",
            "122/122 [==============================] - 0s 3ms/step - loss: 449.0742 - val_loss: 2600.3306\n",
            "Epoch 72/100\n",
            "122/122 [==============================] - 0s 3ms/step - loss: 405.2551 - val_loss: 1857.0669\n",
            "Epoch 73/100\n",
            "122/122 [==============================] - 0s 3ms/step - loss: 414.9473 - val_loss: 1767.6875\n",
            "Epoch 74/100\n",
            "122/122 [==============================] - 0s 4ms/step - loss: 409.6772 - val_loss: 1935.0916\n",
            "Epoch 75/100\n",
            "122/122 [==============================] - 0s 3ms/step - loss: 418.8872 - val_loss: 1535.7476\n",
            "Epoch 76/100\n",
            "122/122 [==============================] - 0s 3ms/step - loss: 432.1632 - val_loss: 2116.7739\n",
            "Epoch 77/100\n",
            "122/122 [==============================] - 0s 3ms/step - loss: 400.1693 - val_loss: 1839.8805\n",
            "Epoch 78/100\n",
            "122/122 [==============================] - 0s 3ms/step - loss: 399.9543 - val_loss: 1565.4143\n",
            "Epoch 79/100\n",
            "122/122 [==============================] - 0s 3ms/step - loss: 403.3815 - val_loss: 1545.2961\n",
            "Epoch 80/100\n",
            "122/122 [==============================] - 0s 3ms/step - loss: 421.9138 - val_loss: 2065.9878\n",
            "Epoch 81/100\n",
            "122/122 [==============================] - 0s 3ms/step - loss: 412.8762 - val_loss: 1589.2935\n",
            "Epoch 82/100\n",
            "122/122 [==============================] - 0s 3ms/step - loss: 414.5840 - val_loss: 1533.7261\n",
            "Epoch 83/100\n",
            "122/122 [==============================] - 0s 3ms/step - loss: 410.6121 - val_loss: 1561.6824\n",
            "Epoch 84/100\n",
            "122/122 [==============================] - 0s 3ms/step - loss: 440.0481 - val_loss: 1552.7274\n",
            "Epoch 85/100\n",
            "122/122 [==============================] - 0s 3ms/step - loss: 399.1363 - val_loss: 1761.8536\n",
            "Epoch 86/100\n",
            "122/122 [==============================] - 0s 3ms/step - loss: 429.0506 - val_loss: 2431.7834\n",
            "Epoch 87/100\n",
            "122/122 [==============================] - 0s 3ms/step - loss: 404.9667 - val_loss: 1805.5420\n",
            "Epoch 88/100\n",
            "122/122 [==============================] - 0s 3ms/step - loss: 400.0716 - val_loss: 2082.2017\n",
            "Epoch 89/100\n",
            "122/122 [==============================] - 0s 4ms/step - loss: 410.2617 - val_loss: 2377.0774\n",
            "Epoch 90/100\n",
            "122/122 [==============================] - 0s 3ms/step - loss: 414.6191 - val_loss: 1736.2788\n",
            "Epoch 91/100\n",
            "122/122 [==============================] - 0s 4ms/step - loss: 428.8392 - val_loss: 1923.5764\n",
            "Epoch 92/100\n",
            "122/122 [==============================] - 0s 4ms/step - loss: 404.6079 - val_loss: 1973.4664\n",
            "Epoch 93/100\n",
            "122/122 [==============================] - 0s 3ms/step - loss: 396.9561 - val_loss: 1541.3927\n",
            "Epoch 94/100\n",
            "122/122 [==============================] - 1s 5ms/step - loss: 400.3346 - val_loss: 2057.3167\n",
            "Epoch 95/100\n",
            "122/122 [==============================] - 1s 5ms/step - loss: 400.0999 - val_loss: 1530.4116\n",
            "Epoch 96/100\n",
            "122/122 [==============================] - 1s 5ms/step - loss: 422.8298 - val_loss: 1578.5178\n",
            "Epoch 97/100\n",
            "122/122 [==============================] - 1s 5ms/step - loss: 394.7814 - val_loss: 1826.5502\n",
            "Epoch 98/100\n",
            "122/122 [==============================] - 1s 5ms/step - loss: 409.1628 - val_loss: 1615.1976\n",
            "Epoch 99/100\n",
            "122/122 [==============================] - 1s 6ms/step - loss: 402.9540 - val_loss: 1542.3684\n",
            "Epoch 100/100\n",
            "122/122 [==============================] - 0s 3ms/step - loss: 424.4412 - val_loss: 2794.9221\n"
          ]
        }
      ]
    },
    {
      "cell_type": "code",
      "source": [
        "ev=model.evaluate(xtest,ytest)"
      ],
      "metadata": {
        "colab": {
          "base_uri": "https://localhost:8080/"
        },
        "id": "2l5LowJ71MK4",
        "outputId": "398e67c1-6c13-4ffe-db65-bdcf8d3d3311"
      },
      "execution_count": 23,
      "outputs": [
        {
          "output_type": "stream",
          "name": "stdout",
          "text": [
            "31/31 [==============================] - 0s 2ms/step - loss: 2794.9221\n"
          ]
        }
      ]
    },
    {
      "cell_type": "code",
      "source": [],
      "metadata": {
        "id": "2s-_cahoH1ty"
      },
      "execution_count": 23,
      "outputs": []
    },
    {
      "cell_type": "code",
      "source": [
        "y_pred=model.predict(xtest)\n",
        "y_pred=numpy.squeeze(y_pred)"
      ],
      "metadata": {
        "colab": {
          "base_uri": "https://localhost:8080/"
        },
        "id": "2GWj53LOwE4x",
        "outputId": "d0dae9a0-cfb4-4178-f402-6223317de557"
      },
      "execution_count": 24,
      "outputs": [
        {
          "output_type": "stream",
          "name": "stdout",
          "text": [
            "31/31 [==============================] - 0s 2ms/step\n"
          ]
        }
      ]
    },
    {
      "cell_type": "code",
      "source": [],
      "metadata": {
        "id": "ut8d4-K-z63Z"
      },
      "execution_count": 24,
      "outputs": []
    },
    {
      "cell_type": "code",
      "source": [
        "y_actual=data.Open[3904:]"
      ],
      "metadata": {
        "id": "5s00C3CQygAS"
      },
      "execution_count": 25,
      "outputs": []
    },
    {
      "cell_type": "code",
      "source": [],
      "metadata": {
        "id": "riF1Brpo2Nm5"
      },
      "execution_count": 25,
      "outputs": []
    },
    {
      "cell_type": "code",
      "source": [],
      "metadata": {
        "id": "Z3FG6y3S145g"
      },
      "execution_count": 25,
      "outputs": []
    },
    {
      "cell_type": "code",
      "source": [
        "dev,(harsh1,harsh2)=matplotlib.pyplot.subplots(nrows=2,ncols=1)\n",
        "harsh1.plot(y_pred)\n",
        "harsh1.set_title('prediction')\n",
        "harsh2.plot(y_actual,label='actual')\n",
        "harsh2.set_title('actual')"
      ],
      "metadata": {
        "colab": {
          "base_uri": "https://localhost:8080/",
          "height": 470
        },
        "id": "4i91fVEeX3r8",
        "outputId": "48d73871-fff3-4a21-f723-a61d43da7519"
      },
      "execution_count": 26,
      "outputs": [
        {
          "output_type": "execute_result",
          "data": {
            "text/plain": [
              "Text(0.5, 1.0, 'actual')"
            ]
          },
          "metadata": {},
          "execution_count": 26
        },
        {
          "output_type": "display_data",
          "data": {
            "text/plain": [
              "<Figure size 640x480 with 2 Axes>"
            ],
            "image/png": "[encoded data removed]"
          },
          "metadata": {}
        }
      ]
    },
    {
      "cell_type": "code",
      "source": [
        "part1=(ev/data.Open.mean())*100"
      ],
      "metadata": {
        "id": "OBZdPfQsxX7N"
      },
      "execution_count": 27,
      "outputs": []
    },
    {
      "cell_type": "code",
      "source": [
        "accuracy1=100-part1\n",
        "accuracy1"
      ],
      "metadata": {
        "colab": {
          "base_uri": "https://localhost:8080/"
        },
        "id": "7BFHZ2tvILbT",
        "outputId": "e6d885c6-bc2a-42e0-8e19-cba45289a962"
      },
      "execution_count": 28,
      "outputs": [
        {
          "output_type": "execute_result",
          "data": {
            "text/plain": [
              "77.57161962855977"
            ]
          },
          "metadata": {},
          "execution_count": 28
        }
      ]
    },
    {
      "cell_type": "markdown",
      "source": [
        "**conv 1D Model**"
      ],
      "metadata": {
        "id": "Eo3_XG_YJIA1"
      }
    },
    {
      "cell_type": "code",
      "source": [],
      "metadata": {
        "id": "QmLb1-ulK469"
      },
      "execution_count": 28,
      "outputs": []
    },
    {
      "cell_type": "code",
      "source": [],
      "metadata": {
        "id": "AVnfX17TLYiC"
      },
      "execution_count": 28,
      "outputs": []
    },
    {
      "cell_type": "code",
      "source": [
        "model=tensorflow.keras.Sequential([\n",
        "    tensorflow.keras.layers.Lambda(lambda x:tensorflow.expand_dims(x,axis=1)),\n",
        "    tensorflow.keras.layers.Conv1D(32,5,activation='relu',padding='same'),\n",
        "    tensorflow.keras.layers.Conv1D(64,5,activation='relu',padding='same'),\n",
        "    tensorflow.keras.layers.Conv1D(128,5,activation='relu',padding='same'),\n",
        "    tensorflow.keras.layers.Conv1D(64,5,activation='relu',padding='same'),\n",
        "    tensorflow.keras.layers.Dense(32,activation='relu'),\n",
        "    tensorflow.keras.layers.Dense(7,activation='relu')\n",
        "    ])"
      ],
      "metadata": {
        "id": "oT3LBQw4IiVy"
      },
      "execution_count": 29,
      "outputs": []
    },
    {
      "cell_type": "code",
      "source": [
        "model.compile(optimizer=tensorflow.keras.optimizers.Adam(lr=100),\n",
        "              loss=tensorflow.keras.losses.MeanAbsoluteError(),\n",
        "              )"
      ],
      "metadata": {
        "colab": {
          "base_uri": "https://localhost:8080/"
        },
        "id": "YTEBhcUGKDE8",
        "outputId": "6206f3ea-e9f1-474c-dc03-310ca19d23e1"
      },
      "execution_count": 30,
      "outputs": [
        {
          "output_type": "stream",
          "name": "stderr",
          "text": [
            "WARNING:absl:`lr` is deprecated in Keras optimizer, please use `learning_rate` or use the legacy optimizer, e.g.,tf.keras.optimizers.legacy.Adam.\n"
          ]
        }
      ]
    },
    {
      "cell_type": "code",
      "source": [
        "model.fit(xtrain,ytrain,epochs=100,validation_data=(xtest,ytest))"
      ],
      "metadata": {
        "colab": {
          "base_uri": "https://localhost:8080/"
        },
        "id": "_0fJkJKRKISX",
        "outputId": "4470fcef-d9c6-41aa-ba16-9b0efa049ab9"
      },
      "execution_count": 31,
      "outputs": [
        {
          "output_type": "stream",
          "name": "stdout",
          "text": [
            "Epoch 1/100\n",
            "122/122 [==============================] - 4s 16ms/step - loss: 6034.7886 - val_loss: 33855.8086\n",
            "Epoch 2/100\n",
            "122/122 [==============================] - 1s 10ms/step - loss: 6029.0767 - val_loss: 33954.4805\n",
            "Epoch 3/100\n",
            "122/122 [==============================] - 1s 7ms/step - loss: 6027.1172 - val_loss: 34677.6406\n",
            "Epoch 4/100\n",
            "122/122 [==============================] - 1s 6ms/step - loss: 6031.3535 - val_loss: 33615.6445\n",
            "Epoch 5/100\n",
            "122/122 [==============================] - 1s 6ms/step - loss: 6032.1909 - val_loss: 33587.0039\n",
            "Epoch 6/100\n",
            "122/122 [==============================] - 1s 6ms/step - loss: 6031.2769 - val_loss: 34085.3242\n",
            "Epoch 7/100\n",
            "122/122 [==============================] - 1s 6ms/step - loss: 6021.0210 - val_loss: 34313.2617\n",
            "Epoch 8/100\n",
            "122/122 [==============================] - 1s 5ms/step - loss: 6003.0176 - val_loss: 33951.8242\n",
            "Epoch 9/100\n",
            "122/122 [==============================] - 1s 6ms/step - loss: 6018.6777 - val_loss: 34316.0781\n",
            "Epoch 10/100\n",
            "122/122 [==============================] - 1s 7ms/step - loss: 6008.9346 - val_loss: 33442.0195\n",
            "Epoch 11/100\n",
            "122/122 [==============================] - 1s 6ms/step - loss: 6009.7568 - val_loss: 33785.6211\n",
            "Epoch 12/100\n",
            "122/122 [==============================] - 1s 6ms/step - loss: 6005.5811 - val_loss: 34121.4102\n",
            "Epoch 13/100\n",
            "122/122 [==============================] - 1s 6ms/step - loss: 6002.2314 - val_loss: 34335.2148\n",
            "Epoch 14/100\n",
            "122/122 [==============================] - 1s 6ms/step - loss: 5997.9702 - val_loss: 33875.8281\n",
            "Epoch 15/100\n",
            "122/122 [==============================] - 1s 6ms/step - loss: 5996.6685 - val_loss: 33631.8242\n",
            "Epoch 16/100\n",
            "122/122 [==============================] - 1s 7ms/step - loss: 6003.3257 - val_loss: 34006.5898\n",
            "Epoch 17/100\n",
            "122/122 [==============================] - 1s 9ms/step - loss: 6000.2837 - val_loss: 33720.5508\n",
            "Epoch 18/100\n",
            "122/122 [==============================] - 1s 9ms/step - loss: 6019.0112 - val_loss: 33847.2305\n",
            "Epoch 19/100\n",
            "122/122 [==============================] - 1s 8ms/step - loss: 6010.1899 - val_loss: 33620.1758\n",
            "Epoch 20/100\n",
            "122/122 [==============================] - 1s 5ms/step - loss: 5999.5210 - val_loss: 34167.4180\n",
            "Epoch 21/100\n",
            "122/122 [==============================] - 1s 5ms/step - loss: 6161.6050 - val_loss: 33632.4844\n",
            "Epoch 22/100\n",
            "122/122 [==============================] - 1s 6ms/step - loss: 6028.9551 - val_loss: 34233.5547\n",
            "Epoch 23/100\n",
            "122/122 [==============================] - 1s 6ms/step - loss: 6027.0117 - val_loss: 34113.0820\n",
            "Epoch 24/100\n",
            "122/122 [==============================] - 1s 5ms/step - loss: 6027.2549 - val_loss: 33697.5273\n",
            "Epoch 25/100\n",
            "122/122 [==============================] - 1s 6ms/step - loss: 6025.1143 - val_loss: 33830.3906\n",
            "Epoch 26/100\n",
            "122/122 [==============================] - 1s 5ms/step - loss: 6021.0859 - val_loss: 34121.5234\n",
            "Epoch 27/100\n",
            "122/122 [==============================] - 1s 6ms/step - loss: 6002.1855 - val_loss: 34224.4688\n",
            "Epoch 28/100\n",
            "122/122 [==============================] - 1s 6ms/step - loss: 5995.0845 - val_loss: 33530.3633\n",
            "Epoch 29/100\n",
            "122/122 [==============================] - 1s 6ms/step - loss: 6004.1987 - val_loss: 33498.0586\n",
            "Epoch 30/100\n",
            "122/122 [==============================] - 1s 5ms/step - loss: 6001.3667 - val_loss: 33307.5664\n",
            "Epoch 31/100\n",
            "122/122 [==============================] - 1s 5ms/step - loss: 5995.4307 - val_loss: 34320.1172\n",
            "Epoch 32/100\n",
            "122/122 [==============================] - 1s 5ms/step - loss: 5994.0234 - val_loss: 33185.1914\n",
            "Epoch 33/100\n",
            "122/122 [==============================] - 1s 6ms/step - loss: 6015.9648 - val_loss: 33937.9141\n",
            "Epoch 34/100\n",
            "122/122 [==============================] - 1s 8ms/step - loss: 6013.9082 - val_loss: 33831.8203\n",
            "Epoch 35/100\n",
            "122/122 [==============================] - 1s 9ms/step - loss: 6011.1602 - val_loss: 34045.9375\n",
            "Epoch 36/100\n",
            "122/122 [==============================] - 1s 11ms/step - loss: 6008.3555 - val_loss: 34360.3008\n",
            "Epoch 37/100\n",
            "122/122 [==============================] - 1s 7ms/step - loss: 6010.2310 - val_loss: 34287.7812\n",
            "Epoch 38/100\n",
            "122/122 [==============================] - 1s 5ms/step - loss: 6011.3564 - val_loss: 33647.7109\n",
            "Epoch 39/100\n",
            "122/122 [==============================] - 1s 6ms/step - loss: 6007.1143 - val_loss: 34032.5547\n",
            "Epoch 40/100\n",
            "122/122 [==============================] - 1s 6ms/step - loss: 6004.8374 - val_loss: 34127.6523\n",
            "Epoch 41/100\n",
            "122/122 [==============================] - 1s 6ms/step - loss: 5998.5308 - val_loss: 33622.6953\n",
            "Epoch 42/100\n",
            "122/122 [==============================] - 1s 6ms/step - loss: 5991.6558 - val_loss: 34000.4648\n",
            "Epoch 43/100\n",
            "122/122 [==============================] - 1s 6ms/step - loss: 5995.7930 - val_loss: 34203.8984\n",
            "Epoch 44/100\n",
            "122/122 [==============================] - 1s 6ms/step - loss: 5992.4673 - val_loss: 33413.8984\n",
            "Epoch 45/100\n",
            "122/122 [==============================] - 1s 6ms/step - loss: 5990.7529 - val_loss: 33673.4922\n",
            "Epoch 46/100\n",
            "122/122 [==============================] - 1s 5ms/step - loss: 5993.1558 - val_loss: 33753.0195\n",
            "Epoch 47/100\n",
            "122/122 [==============================] - 1s 5ms/step - loss: 5993.3789 - val_loss: 33104.7461\n",
            "Epoch 48/100\n",
            "122/122 [==============================] - 1s 6ms/step - loss: 5990.6577 - val_loss: 33597.1367\n",
            "Epoch 49/100\n",
            "122/122 [==============================] - 1s 5ms/step - loss: 5992.8228 - val_loss: 33951.6602\n",
            "Epoch 50/100\n",
            "122/122 [==============================] - 1s 5ms/step - loss: 5992.9990 - val_loss: 33714.0117\n",
            "Epoch 51/100\n",
            "122/122 [==============================] - 1s 7ms/step - loss: 5996.0088 - val_loss: 33881.1484\n",
            "Epoch 52/100\n",
            "122/122 [==============================] - 1s 9ms/step - loss: 5989.8047 - val_loss: 34210.8516\n",
            "Epoch 53/100\n",
            "122/122 [==============================] - 1s 9ms/step - loss: 5992.8276 - val_loss: 34050.5977\n",
            "Epoch 54/100\n",
            "122/122 [==============================] - 1s 9ms/step - loss: 5994.0874 - val_loss: 33712.1992\n",
            "Epoch 55/100\n",
            "122/122 [==============================] - 1s 6ms/step - loss: 6188.8843 - val_loss: 34722.7383\n",
            "Epoch 56/100\n",
            "122/122 [==============================] - 1s 6ms/step - loss: 5999.2368 - val_loss: 34129.5586\n",
            "Epoch 57/100\n",
            "122/122 [==============================] - 1s 7ms/step - loss: 5990.9551 - val_loss: 33628.0586\n",
            "Epoch 58/100\n",
            "122/122 [==============================] - 1s 6ms/step - loss: 6016.3511 - val_loss: 33760.8516\n",
            "Epoch 59/100\n",
            "122/122 [==============================] - 1s 6ms/step - loss: 6003.3145 - val_loss: 34861.7344\n",
            "Epoch 60/100\n",
            "122/122 [==============================] - 1s 5ms/step - loss: 5997.2114 - val_loss: 34009.3828\n",
            "Epoch 61/100\n",
            "122/122 [==============================] - 1s 6ms/step - loss: 5993.8267 - val_loss: 34149.3242\n",
            "Epoch 62/100\n",
            "122/122 [==============================] - 1s 6ms/step - loss: 5996.3354 - val_loss: 34372.7695\n",
            "Epoch 63/100\n",
            "122/122 [==============================] - 1s 6ms/step - loss: 5991.4624 - val_loss: 33991.6367\n",
            "Epoch 64/100\n",
            "122/122 [==============================] - 1s 5ms/step - loss: 5998.3706 - val_loss: 33758.1992\n",
            "Epoch 65/100\n",
            "122/122 [==============================] - 1s 6ms/step - loss: 5996.1396 - val_loss: 33956.2305\n",
            "Epoch 66/100\n",
            "122/122 [==============================] - 1s 6ms/step - loss: 5997.4868 - val_loss: 33905.0664\n",
            "Epoch 67/100\n",
            "122/122 [==============================] - 1s 6ms/step - loss: 5991.8706 - val_loss: 33691.2695\n",
            "Epoch 68/100\n",
            "122/122 [==============================] - 1s 7ms/step - loss: 5997.0029 - val_loss: 33673.1836\n",
            "Epoch 69/100\n",
            "122/122 [==============================] - 1s 9ms/step - loss: 6017.3794 - val_loss: 33613.7148\n",
            "Epoch 70/100\n",
            "122/122 [==============================] - 1s 9ms/step - loss: 6007.7012 - val_loss: 33005.1250\n",
            "Epoch 71/100\n",
            "122/122 [==============================] - 1s 8ms/step - loss: 5997.4243 - val_loss: 33965.6523\n",
            "Epoch 72/100\n",
            "122/122 [==============================] - 1s 6ms/step - loss: 5995.9028 - val_loss: 33787.0234\n",
            "Epoch 73/100\n",
            "122/122 [==============================] - 1s 6ms/step - loss: 6065.2046 - val_loss: 33996.8320\n",
            "Epoch 74/100\n",
            "122/122 [==============================] - 1s 7ms/step - loss: 6027.1724 - val_loss: 33990.0352\n",
            "Epoch 75/100\n",
            "122/122 [==============================] - 1s 6ms/step - loss: 6029.8950 - val_loss: 34422.7773\n",
            "Epoch 76/100\n",
            "122/122 [==============================] - 1s 6ms/step - loss: 6028.7109 - val_loss: 33873.0781\n",
            "Epoch 77/100\n",
            "122/122 [==============================] - 1s 6ms/step - loss: 6028.6831 - val_loss: 33932.1016\n",
            "Epoch 78/100\n",
            "122/122 [==============================] - 1s 6ms/step - loss: 6025.8984 - val_loss: 33606.3281\n",
            "Epoch 79/100\n",
            "122/122 [==============================] - 1s 5ms/step - loss: 6024.9258 - val_loss: 33909.3242\n",
            "Epoch 80/100\n",
            "122/122 [==============================] - 1s 6ms/step - loss: 6029.2441 - val_loss: 34484.7617\n",
            "Epoch 81/100\n",
            "122/122 [==============================] - 1s 6ms/step - loss: 6029.5059 - val_loss: 34131.7969\n",
            "Epoch 82/100\n",
            "122/122 [==============================] - 1s 6ms/step - loss: 6027.9678 - val_loss: 33663.8711\n",
            "Epoch 83/100\n",
            "122/122 [==============================] - 1s 5ms/step - loss: 6029.8765 - val_loss: 33650.3633\n",
            "Epoch 84/100\n",
            "122/122 [==============================] - 1s 5ms/step - loss: 6029.8716 - val_loss: 34144.7383\n",
            "Epoch 85/100\n",
            "122/122 [==============================] - 1s 7ms/step - loss: 6028.4893 - val_loss: 34265.2344\n",
            "Epoch 86/100\n",
            "122/122 [==============================] - 1s 9ms/step - loss: 6029.9961 - val_loss: 33887.4805\n",
            "Epoch 87/100\n",
            "122/122 [==============================] - 1s 10ms/step - loss: 6028.1016 - val_loss: 33566.8633\n",
            "Epoch 88/100\n",
            "122/122 [==============================] - 1s 9ms/step - loss: 6030.0151 - val_loss: 33841.1641\n",
            "Epoch 89/100\n",
            "122/122 [==============================] - 1s 6ms/step - loss: 6025.5518 - val_loss: 33984.1016\n",
            "Epoch 90/100\n",
            "122/122 [==============================] - 1s 6ms/step - loss: 6024.9287 - val_loss: 33703.5273\n",
            "Epoch 91/100\n",
            "122/122 [==============================] - 1s 5ms/step - loss: 6028.3511 - val_loss: 34495.3242\n",
            "Epoch 92/100\n",
            "122/122 [==============================] - 1s 6ms/step - loss: 6028.5703 - val_loss: 34029.2891\n",
            "Epoch 93/100\n",
            "122/122 [==============================] - 1s 5ms/step - loss: 6024.9268 - val_loss: 34237.6875\n",
            "Epoch 94/100\n",
            "122/122 [==============================] - 1s 5ms/step - loss: 6028.9746 - val_loss: 33610.6445\n",
            "Epoch 95/100\n",
            "122/122 [==============================] - 1s 6ms/step - loss: 6024.0371 - val_loss: 33614.2695\n",
            "Epoch 96/100\n",
            "122/122 [==============================] - 1s 6ms/step - loss: 6026.1553 - val_loss: 34293.4844\n",
            "Epoch 97/100\n",
            "122/122 [==============================] - 1s 5ms/step - loss: 6028.1553 - val_loss: 34519.9180\n",
            "Epoch 98/100\n",
            "122/122 [==============================] - 1s 6ms/step - loss: 6028.0640 - val_loss: 33251.8633\n",
            "Epoch 99/100\n",
            "122/122 [==============================] - 1s 5ms/step - loss: 6025.7944 - val_loss: 33765.2539\n",
            "Epoch 100/100\n",
            "122/122 [==============================] - 1s 5ms/step - loss: 6024.8218 - val_loss: 33708.1367\n"
          ]
        },
        {
          "output_type": "execute_result",
          "data": {
            "text/plain": [
              "<keras.src.callbacks.History at 0x7cbf02e1da80>"
            ]
          },
          "metadata": {},
          "execution_count": 31
        }
      ]
    },
    {
      "cell_type": "code",
      "source": [
        "ev2=model.evaluate(xtest,ytest)"
      ],
      "metadata": {
        "colab": {
          "base_uri": "https://localhost:8080/"
        },
        "id": "DrPIlg9jMQnx",
        "outputId": "a8fb3cd1-62c4-4ddd-9d5e-74648e5b3cd3"
      },
      "execution_count": 32,
      "outputs": [
        {
          "output_type": "stream",
          "name": "stdout",
          "text": [
            "31/31 [==============================] - 0s 4ms/step - loss: 33708.1367\n"
          ]
        }
      ]
    },
    {
      "cell_type": "code",
      "source": [
        "y_pred2=model.predict(xtest)\n",
        "y_pred2=numpy.squeeze(y_pred2)"
      ],
      "metadata": {
        "colab": {
          "base_uri": "https://localhost:8080/"
        },
        "id": "eSn4PFs2F3dx",
        "outputId": "4234dd73-a59d-429d-d03d-ecf26ac02169"
      },
      "execution_count": 33,
      "outputs": [
        {
          "output_type": "stream",
          "name": "stdout",
          "text": [
            "31/31 [==============================] - 0s 4ms/step\n"
          ]
        }
      ]
    },
    {
      "cell_type": "code",
      "source": [
        "data.Open.mean()"
      ],
      "metadata": {
        "id": "F32PdApIkawm",
        "outputId": "901134c1-16dc-4678-80d4-0d0b2c5979af",
        "colab": {
          "base_uri": "https://localhost:8080/"
        }
      },
      "execution_count": 103,
      "outputs": [
        {
          "output_type": "execute_result",
          "data": {
            "text/plain": [
              "12461.542353274934"
            ]
          },
          "metadata": {},
          "execution_count": 103
        }
      ]
    },
    {
      "cell_type": "code",
      "source": [
        "accuracy2=(33708.1367/data.Open.mean())*100\n",
        "accuracy2"
      ],
      "metadata": {
        "id": "097KTzo4jCqy",
        "outputId": "99c9d414-1732-49d6-f418-157773ea48f2",
        "colab": {
          "base_uri": "https://localhost:8080/"
        }
      },
      "execution_count": 102,
      "outputs": [
        {
          "output_type": "execute_result",
          "data": {
            "text/plain": [
              "270.4973087953386"
            ]
          },
          "metadata": {},
          "execution_count": 102
        }
      ]
    },
    {
      "cell_type": "code",
      "source": [
        "dev,(harsh1,harsh2)=matplotlib.pyplot.subplots(nrows=2,ncols=1)\n",
        "harsh1.plot(y_pred2)\n",
        "harsh1.set_title('prediction')\n",
        "harsh2.plot(y_actual,label='actual')\n",
        "harsh2.set_title('actual')"
      ],
      "metadata": {
        "colab": {
          "base_uri": "https://localhost:8080/",
          "height": 470
        },
        "id": "G9mMl01gGH_h",
        "outputId": "f3e84202-03fd-49cf-d344-83f268c4b316"
      },
      "execution_count": 34,
      "outputs": [
        {
          "output_type": "execute_result",
          "data": {
            "text/plain": [
              "Text(0.5, 1.0, 'actual')"
            ]
          },
          "metadata": {},
          "execution_count": 34
        },
        {
          "output_type": "display_data",
          "data": {
            "text/plain": [
              "<Figure size 640x480 with 2 Axes>"
            ],
            "image/png": "[encoded data removed]"
          },
          "metadata": {}
        }
      ]
    },
    {
      "cell_type": "markdown",
      "source": [
        "**one one model**"
      ],
      "metadata": {
        "id": "CGggbBAtG7Fy"
      }
    },
    {
      "cell_type": "code",
      "source": [
        "model=tensorflow.keras.Sequential([\n",
        "    tensorflow.keras.layers.Lambda(lambda x:tensorflow.expand_dims(x,axis=1)),\n",
        "    tensorflow.keras.layers.Dense(1000,activation='relu'),\n",
        "    tensorflow.keras.layers.Dense(128,activation='relu'),\n",
        "    tensorflow.keras.layers.Dense(64,activation='relu'),\n",
        "    tensorflow.keras.layers.Dense(1)])"
      ],
      "metadata": {
        "id": "QS6smmqsGk5n"
      },
      "execution_count": 104,
      "outputs": []
    },
    {
      "cell_type": "code",
      "source": [
        "model.compile(optimizer=tensorflow.keras.optimizers.Adam(),\n",
        "              loss=tensorflow.keras.losses.MeanAbsoluteError())"
      ],
      "metadata": {
        "id": "MVaVUqq7GKWc"
      },
      "execution_count": 36,
      "outputs": []
    },
    {
      "cell_type": "code",
      "source": [],
      "metadata": {
        "id": "qWaQ1KXXHzwZ"
      },
      "execution_count": 36,
      "outputs": []
    },
    {
      "cell_type": "code",
      "source": [
        "data.Open.shape"
      ],
      "metadata": {
        "colab": {
          "base_uri": "https://localhost:8080/"
        },
        "id": "voXICDHoHrmM",
        "outputId": "cb3b42dd-3175-44a3-be42-b6dfbf43c7ef"
      },
      "execution_count": 37,
      "outputs": [
        {
          "output_type": "execute_result",
          "data": {
            "text/plain": [
              "(4960,)"
            ]
          },
          "metadata": {},
          "execution_count": 37
        }
      ]
    },
    {
      "cell_type": "code",
      "source": [
        "arr=numpy.array(data.Open)"
      ],
      "metadata": {
        "id": "2DROGYEFJH9G"
      },
      "execution_count": 38,
      "outputs": []
    },
    {
      "cell_type": "code",
      "source": [
        "x_train,y_train=[],[]\n",
        "for i in range(1,4960):\n",
        "  x_train.append(arr[i-1])\n",
        "  y_train.append(arr[i])"
      ],
      "metadata": {
        "id": "r1cLRw02HaN7"
      },
      "execution_count": 39,
      "outputs": []
    },
    {
      "cell_type": "code",
      "source": [
        "x_train=numpy.array(x_train)\n",
        "y_train=numpy.array(y_train)"
      ],
      "metadata": {
        "id": "CEWNK9YsIZX_"
      },
      "execution_count": 40,
      "outputs": []
    },
    {
      "cell_type": "code",
      "source": [
        "x_train.shape"
      ],
      "metadata": {
        "colab": {
          "base_uri": "https://localhost:8080/"
        },
        "id": "OywVSPEDIh0r",
        "outputId": "bf541486-5f0c-4207-a2e9-4beaf063e03f"
      },
      "execution_count": 41,
      "outputs": [
        {
          "output_type": "execute_result",
          "data": {
            "text/plain": [
              "(4959,)"
            ]
          },
          "metadata": {},
          "execution_count": 41
        }
      ]
    },
    {
      "cell_type": "code",
      "source": [
        "4959-992"
      ],
      "metadata": {
        "colab": {
          "base_uri": "https://localhost:8080/"
        },
        "id": "ROVr-X5pImX1",
        "outputId": "1bfff84c-1e00-40e5-8a94-e3d8dfe918fb"
      },
      "execution_count": 42,
      "outputs": [
        {
          "output_type": "execute_result",
          "data": {
            "text/plain": [
              "3967"
            ]
          },
          "metadata": {},
          "execution_count": 42
        }
      ]
    },
    {
      "cell_type": "code",
      "source": [
        "x_train,x_test,y_train,y_test=x_train[0:3967],x_train[3967:],y_train[0:3967],y_train[3967:]"
      ],
      "metadata": {
        "id": "AklFGaaTIQM5"
      },
      "execution_count": 43,
      "outputs": []
    },
    {
      "cell_type": "code",
      "source": [
        "x_train,y_train"
      ],
      "metadata": {
        "colab": {
          "base_uri": "https://localhost:8080/"
        },
        "id": "0xT5Bi0sI51b",
        "outputId": "de9ffc27-12a9-44ff-eef8-e48d22db7e12"
      },
      "execution_count": 44,
      "outputs": [
        {
          "output_type": "execute_result",
          "data": {
            "text/plain": [
              "(array([2.48000000e-01, 2.49900000e-01, 2.65000000e-01, ...,\n",
              "        6.18559419e+04, 6.12900816e+04, 6.09393597e+04]),\n",
              " array([2.49900000e-01, 2.65000000e-01, 2.65000000e-01, ...,\n",
              "        6.12900816e+04, 6.09393597e+04, 6.31674346e+04]))"
            ]
          },
          "metadata": {},
          "execution_count": 44
        }
      ]
    },
    {
      "cell_type": "code",
      "source": [
        "model.fit(x_train,y_train,epochs=100,validation_data=(x_test,y_test))"
      ],
      "metadata": {
        "colab": {
          "base_uri": "https://localhost:8080/"
        },
        "id": "BwepolVJIIKj",
        "outputId": "669f5d55-8d8f-406c-cb52-ec6081de6227"
      },
      "execution_count": null,
      "outputs": [
        {
          "output_type": "stream",
          "name": "stdout",
          "text": [
            "Epoch 1/100\n",
            "124/124 [==============================] - 2s 7ms/step - loss: 752.4490 - val_loss: 1586.2343\n",
            "Epoch 2/100\n",
            "124/124 [==============================] - 1s 6ms/step - loss: 238.4624 - val_loss: 1038.7063\n",
            "Epoch 3/100\n",
            "124/124 [==============================] - 1s 6ms/step - loss: 224.9564 - val_loss: 1298.6327\n",
            "Epoch 4/100\n",
            "124/124 [==============================] - 1s 5ms/step - loss: 276.4708 - val_loss: 930.3713\n",
            "Epoch 5/100\n",
            "124/124 [==============================] - 1s 6ms/step - loss: 230.8662 - val_loss: 787.0281\n",
            "Epoch 6/100\n",
            "124/124 [==============================] - 1s 6ms/step - loss: 280.1620 - val_loss: 2109.1252\n",
            "Epoch 7/100\n",
            "124/124 [==============================] - 1s 5ms/step - loss: 245.3363 - val_loss: 737.7718\n",
            "Epoch 8/100\n",
            "124/124 [==============================] - 1s 5ms/step - loss: 222.7361 - val_loss: 932.3795\n",
            "Epoch 9/100\n",
            "124/124 [==============================] - 1s 5ms/step - loss: 235.1070 - val_loss: 1100.1276\n",
            "Epoch 10/100\n",
            "124/124 [==============================] - 1s 6ms/step - loss: 274.9734 - val_loss: 2647.9390\n",
            "Epoch 11/100\n",
            "124/124 [==============================] - 1s 6ms/step - loss: 257.8644 - val_loss: 748.9501\n",
            "Epoch 12/100\n",
            "124/124 [==============================] - 1s 6ms/step - loss: 229.9001 - val_loss: 751.5934\n",
            "Epoch 13/100\n",
            "124/124 [==============================] - 1s 6ms/step - loss: 238.9253 - val_loss: 1965.1870\n",
            "Epoch 14/100\n",
            "124/124 [==============================] - 1s 10ms/step - loss: 241.3550 - val_loss: 1183.8948\n",
            "Epoch 15/100\n",
            "124/124 [==============================] - 1s 10ms/step - loss: 225.7613 - val_loss: 880.0398\n",
            "Epoch 16/100\n",
            "124/124 [==============================] - 1s 8ms/step - loss: 232.3344 - val_loss: 934.3321\n",
            "Epoch 17/100\n",
            "124/124 [==============================] - 1s 6ms/step - loss: 241.5348 - val_loss: 881.6949\n",
            "Epoch 18/100\n",
            "124/124 [==============================] - 1s 5ms/step - loss: 230.0158 - val_loss: 1045.0717\n",
            "Epoch 19/100\n",
            "124/124 [==============================] - 1s 5ms/step - loss: 240.7916 - val_loss: 991.1804\n",
            "Epoch 20/100\n",
            "124/124 [==============================] - 1s 6ms/step - loss: 229.2764 - val_loss: 832.5240\n",
            "Epoch 21/100\n",
            "124/124 [==============================] - 1s 6ms/step - loss: 248.9221 - val_loss: 1491.0283\n",
            "Epoch 22/100\n",
            "124/124 [==============================] - 1s 6ms/step - loss: 234.6467 - val_loss: 1004.5045\n",
            "Epoch 23/100\n",
            "124/124 [==============================] - 1s 6ms/step - loss: 231.6292 - val_loss: 1077.9438\n",
            "Epoch 24/100\n",
            "124/124 [==============================] - 1s 6ms/step - loss: 240.2213 - val_loss: 902.0820\n",
            "Epoch 25/100\n",
            "124/124 [==============================] - 1s 6ms/step - loss: 228.4977 - val_loss: 1593.1681\n",
            "Epoch 26/100\n",
            "124/124 [==============================] - 1s 6ms/step - loss: 252.4331 - val_loss: 752.7333\n",
            "Epoch 27/100\n",
            "124/124 [==============================] - 1s 9ms/step - loss: 240.4191 - val_loss: 880.1724\n",
            "Epoch 28/100\n",
            "124/124 [==============================] - 1s 6ms/step - loss: 238.1491 - val_loss: 1337.6356\n",
            "Epoch 29/100\n",
            "124/124 [==============================] - 1s 6ms/step - loss: 251.9628 - val_loss: 791.7532\n",
            "Epoch 30/100\n",
            "124/124 [==============================] - 1s 10ms/step - loss: 222.3685 - val_loss: 774.0468\n",
            "Epoch 31/100\n",
            "124/124 [==============================] - 1s 9ms/step - loss: 230.0529 - val_loss: 1271.0038\n",
            "Epoch 32/100\n",
            "124/124 [==============================] - 1s 10ms/step - loss: 223.0951 - val_loss: 744.7262\n",
            "Epoch 33/100\n",
            "124/124 [==============================] - 1s 6ms/step - loss: 249.3461 - val_loss: 737.8049\n",
            "Epoch 34/100\n",
            "124/124 [==============================] - 1s 6ms/step - loss: 223.7824 - val_loss: 798.5380\n",
            "Epoch 35/100\n",
            "124/124 [==============================] - 1s 6ms/step - loss: 245.6857 - val_loss: 1728.1097\n",
            "Epoch 36/100\n",
            "124/124 [==============================] - 1s 5ms/step - loss: 243.9251 - val_loss: 793.0730\n",
            "Epoch 37/100\n",
            "124/124 [==============================] - 1s 6ms/step - loss: 232.6857 - val_loss: 814.7281\n",
            "Epoch 38/100\n",
            "124/124 [==============================] - 1s 6ms/step - loss: 233.7476 - val_loss: 767.7946\n",
            "Epoch 39/100\n",
            "124/124 [==============================] - 1s 6ms/step - loss: 220.4361 - val_loss: 1165.6631\n",
            "Epoch 40/100\n",
            "124/124 [==============================] - 1s 6ms/step - loss: 215.2379 - val_loss: 921.9985\n",
            "Epoch 41/100\n",
            "124/124 [==============================] - 1s 6ms/step - loss: 226.7613 - val_loss: 867.8980\n",
            "Epoch 42/100\n",
            "124/124 [==============================] - 1s 6ms/step - loss: 215.6477 - val_loss: 978.2837\n",
            "Epoch 43/100\n",
            "124/124 [==============================] - 1s 6ms/step - loss: 226.5600 - val_loss: 2161.2654\n",
            "Epoch 44/100\n",
            "124/124 [==============================] - 1s 6ms/step - loss: 231.9305 - val_loss: 1316.1218\n",
            "Epoch 45/100\n",
            "124/124 [==============================] - 1s 6ms/step - loss: 235.8036 - val_loss: 1692.9240\n",
            "Epoch 46/100\n",
            "122/124 [============================>.] - ETA: 0s - loss: 244.8530"
          ]
        }
      ]
    },
    {
      "cell_type": "code",
      "source": [
        "ev=model.evaluate(x_test,y_test)"
      ],
      "metadata": {
        "id": "3mE0w_C1JoDT"
      },
      "execution_count": null,
      "outputs": []
    },
    {
      "cell_type": "code",
      "source": [
        "y_pred_3=model.predict(x_test)"
      ],
      "metadata": {
        "id": "HshLUmuUKCE-"
      },
      "execution_count": null,
      "outputs": []
    },
    {
      "cell_type": "code",
      "source": [
        "y_pred_3=numpy.squeeze(y_pred_3)"
      ],
      "metadata": {
        "id": "rpJQEqEXKKu0"
      },
      "execution_count": null,
      "outputs": []
    },
    {
      "cell_type": "code",
      "source": [
        "dev,(harsh1,harsh2)=matplotlib.pyplot.subplots(nrows=2,ncols=1)\n",
        "harsh1.plot(y_pred_3)\n",
        "harsh1.set_title('prediction')\n",
        "harsh2.plot(y_actual,label='actual')\n",
        "harsh2.set_title('actual')"
      ],
      "metadata": {
        "id": "ZkIjtPCAKSyn"
      },
      "execution_count": null,
      "outputs": []
    },
    {
      "cell_type": "markdown",
      "source": [
        "**RNN model**"
      ],
      "metadata": {
        "id": "QdJoEHdGKhsA"
      }
    },
    {
      "cell_type": "markdown",
      "source": [
        "**first rnn only GRU model**"
      ],
      "metadata": {
        "id": "Ew4jBQ-qlWfl"
      }
    },
    {
      "cell_type": "code",
      "source": [
        "model_x=tensorflow.keras.Sequential([\n",
        "    tensorflow.keras.layers.Lambda(lambda x:tensorflow.expand_dims(x,axis=1)),\n",
        "    tensorflow.keras.layers.GRU(32,activation='relu',return_sequences=True),\n",
        "    tensorflow.keras.layers.GRU(64,activation='relu',return_sequences=True),\n",
        "    tensorflow.keras.layers.GRU(32,activation='relu'),\n",
        "    tensorflow.keras.layers.Dense(1)\n",
        "])"
      ],
      "metadata": {
        "id": "41G_0DLHKaM6"
      },
      "execution_count": null,
      "outputs": []
    },
    {
      "cell_type": "code",
      "source": [
        "model_x.compile(optimizer=tensorflow.keras.optimizers.Adam(),\n",
        "              loss=tensorflow.keras.losses.MeanAbsoluteError())"
      ],
      "metadata": {
        "id": "Nc-mhhxoNFx8"
      },
      "execution_count": null,
      "outputs": []
    },
    {
      "cell_type": "code",
      "source": [
        "model_x.fit(xtrain,ytrain,epochs=100,validation_data=(xtest,ytest))"
      ],
      "metadata": {
        "id": "kwmWsEphNKtQ"
      },
      "execution_count": null,
      "outputs": []
    },
    {
      "cell_type": "code",
      "source": [
        "model_x.evaluate(xtest,ytest)"
      ],
      "metadata": {
        "id": "SjTthudMOLRg"
      },
      "execution_count": null,
      "outputs": []
    },
    {
      "cell_type": "code",
      "source": [
        "def make_graph(y_pred):\n",
        "  dev,(harsh1,harsh2)=matplotlib.pyplot.subplots(nrows=2,ncols=1)\n",
        "  harsh1.plot(y_pred)\n",
        "  harsh1.set_title('prediction')\n",
        "  harsh2.plot(y_actual,label='actual')\n",
        "  harsh2.set_title('actual')"
      ],
      "metadata": {
        "id": "SfL4mDrGOPi6"
      },
      "execution_count": null,
      "outputs": []
    },
    {
      "cell_type": "code",
      "source": [
        "ypred=model_x.predict(xtest)"
      ],
      "metadata": {
        "id": "W6dwglzkOl1Z"
      },
      "execution_count": null,
      "outputs": []
    },
    {
      "cell_type": "code",
      "source": [
        "make_graph(ypred)"
      ],
      "metadata": {
        "id": "ZV14T_syOo2m"
      },
      "execution_count": null,
      "outputs": []
    },
    {
      "cell_type": "markdown",
      "source": [
        "**only RNN LSTM model**"
      ],
      "metadata": {
        "id": "Lcr_MehFlfCJ"
      }
    },
    {
      "cell_type": "code",
      "source": [
        "model_y=tensorflow.keras.Sequential([\n",
        "    tensorflow.keras.layers.Lambda(lambda x:tensorflow.expand_dims(x,axis=1)),\n",
        "    tensorflow.keras.layers.LSTM(64,activation='relu',return_sequences=True),\n",
        "    tensorflow.keras.layers.LSTM(32,activation='relu',return_sequences=True),\n",
        "    tensorflow.keras.layers.LSTM(64,activation='relu'),\n",
        "    tensorflow.keras.layers.Dense(1)\n",
        "])"
      ],
      "metadata": {
        "id": "xKJDlWOWOurx"
      },
      "execution_count": null,
      "outputs": []
    },
    {
      "cell_type": "code",
      "source": [
        "model_y.compile(optimizer=tensorflow.keras.optimizers.Adam(),\n",
        "              loss=tensorflow.keras.losses.MeanAbsoluteError())"
      ],
      "metadata": {
        "id": "DXamZltoPDwC"
      },
      "execution_count": null,
      "outputs": []
    },
    {
      "cell_type": "code",
      "source": [
        "model_y.fit(xtrain,ytrain,epochs=100,validation_data=(xtest,ytest))"
      ],
      "metadata": {
        "id": "JHv2YnWdPJX8"
      },
      "execution_count": null,
      "outputs": []
    },
    {
      "cell_type": "code",
      "source": [
        "ev=model_y.evaluate(xtest,ytest)"
      ],
      "metadata": {
        "id": "Xl_yzqL6PiTJ"
      },
      "execution_count": null,
      "outputs": []
    },
    {
      "cell_type": "code",
      "source": [
        "ypred=model_x.predict(xtest)"
      ],
      "metadata": {
        "id": "DHhxtFbqPnGF"
      },
      "execution_count": null,
      "outputs": []
    },
    {
      "cell_type": "code",
      "source": [
        "make_graph(ypred)"
      ],
      "metadata": {
        "id": "31hF_2ItPrjd"
      },
      "execution_count": null,
      "outputs": []
    },
    {
      "cell_type": "markdown",
      "source": [
        "**only RNN birirectional LSTM model**"
      ],
      "metadata": {
        "id": "Mq1B37DHlkWZ"
      }
    },
    {
      "cell_type": "code",
      "source": [
        "model_z=tensorflow.keras.Sequential([\n",
        "    tensorflow.keras.layers.Lambda(lambda x:tensorflow.expand_dims(x,axis=1)),\n",
        "    tensorflow.keras.layers.Bidirectional(tensorflow.keras.layers.LSTM(64,activation='relu',return_sequences=True)),\n",
        "    tensorflow.keras.layers.Bidirectional(tensorflow.keras.layers.LSTM(32,activation='relu',return_sequences=True)),\n",
        "    tensorflow.keras.layers.Bidirectional(tensorflow.keras.layers.LSTM(64,activation='relu')),\n",
        "    tensorflow.keras.layers.Dense(1)\n",
        "])"
      ],
      "metadata": {
        "id": "r9zUC4-9PO6W"
      },
      "execution_count": null,
      "outputs": []
    },
    {
      "cell_type": "code",
      "source": [
        "model_z.compile(optimizer=tensorflow.keras.optimizers.Adam(),\n",
        "              loss=tensorflow.keras.losses.MeanAbsoluteError())"
      ],
      "metadata": {
        "id": "2IfYs0VoPwUG"
      },
      "execution_count": null,
      "outputs": []
    },
    {
      "cell_type": "code",
      "source": [
        "model_z.fit(xtrain,ytrain,epochs=100,validation_data=(xtest,ytest))"
      ],
      "metadata": {
        "colab": {
          "base_uri": "https://localhost:8080/"
        },
        "id": "34rBslBdPzL5",
        "outputId": "3631f89b-1798-44f0-faeb-5acd9b961953"
      },
      "execution_count": 65,
      "outputs": [
        {
          "output_type": "stream",
          "name": "stdout",
          "text": [
            "Epoch 1/100\n",
            "122/122 [==============================] - 11s 31ms/step - loss: 1993.8162 - val_loss: 3092.8081\n",
            "Epoch 2/100\n",
            "122/122 [==============================] - 1s 9ms/step - loss: 638.5377 - val_loss: 2596.4253\n",
            "Epoch 3/100\n",
            "122/122 [==============================] - 1s 10ms/step - loss: 572.0909 - val_loss: 2002.9055\n",
            "Epoch 4/100\n",
            "122/122 [==============================] - 1s 9ms/step - loss: 580.0221 - val_loss: 3345.1570\n",
            "Epoch 5/100\n",
            "122/122 [==============================] - 1s 9ms/step - loss: 540.4030 - val_loss: 1863.7949\n",
            "Epoch 6/100\n",
            "122/122 [==============================] - 1s 9ms/step - loss: 537.7303 - val_loss: 1901.2443\n",
            "Epoch 7/100\n",
            "122/122 [==============================] - 1s 9ms/step - loss: 537.0282 - val_loss: 2257.2551\n",
            "Epoch 8/100\n",
            "122/122 [==============================] - 1s 9ms/step - loss: 481.8311 - val_loss: 1775.6725\n",
            "Epoch 9/100\n",
            "122/122 [==============================] - 1s 9ms/step - loss: 469.8752 - val_loss: 1730.1906\n",
            "Epoch 10/100\n",
            "122/122 [==============================] - 2s 14ms/step - loss: 473.8455 - val_loss: 1994.4419\n",
            "Epoch 11/100\n",
            "122/122 [==============================] - 2s 15ms/step - loss: 456.3030 - val_loss: 1741.6545\n",
            "Epoch 12/100\n",
            "122/122 [==============================] - 1s 9ms/step - loss: 469.0729 - val_loss: 1793.4272\n",
            "Epoch 13/100\n",
            "122/122 [==============================] - 1s 9ms/step - loss: 484.2600 - val_loss: 2245.8989\n",
            "Epoch 14/100\n",
            "122/122 [==============================] - 1s 9ms/step - loss: 470.3077 - val_loss: 1656.0730\n",
            "Epoch 15/100\n",
            "122/122 [==============================] - 1s 9ms/step - loss: 478.2196 - val_loss: 2013.9221\n",
            "Epoch 16/100\n",
            "122/122 [==============================] - 1s 9ms/step - loss: 440.4996 - val_loss: 1632.0040\n",
            "Epoch 17/100\n",
            "122/122 [==============================] - 1s 10ms/step - loss: 444.7762 - val_loss: 1800.0530\n",
            "Epoch 18/100\n",
            "122/122 [==============================] - 1s 9ms/step - loss: 452.5663 - val_loss: 1628.3527\n",
            "Epoch 19/100\n",
            "122/122 [==============================] - 1s 9ms/step - loss: 442.9182 - val_loss: 2486.1675\n",
            "Epoch 20/100\n",
            "122/122 [==============================] - 1s 10ms/step - loss: 457.0715 - val_loss: 1864.5024\n",
            "Epoch 21/100\n",
            "122/122 [==============================] - 2s 14ms/step - loss: 439.6806 - val_loss: 1760.8776\n",
            "Epoch 22/100\n",
            "122/122 [==============================] - 1s 12ms/step - loss: 478.2089 - val_loss: 1589.0485\n",
            "Epoch 23/100\n",
            "122/122 [==============================] - 1s 9ms/step - loss: 429.2472 - val_loss: 1733.3214\n",
            "Epoch 24/100\n",
            "122/122 [==============================] - 1s 9ms/step - loss: 443.2826 - val_loss: 1611.1868\n",
            "Epoch 25/100\n",
            "122/122 [==============================] - 1s 9ms/step - loss: 442.9871 - val_loss: 1679.9645\n",
            "Epoch 26/100\n",
            "122/122 [==============================] - 1s 9ms/step - loss: 450.5169 - val_loss: 1877.3805\n",
            "Epoch 27/100\n",
            "122/122 [==============================] - 1s 9ms/step - loss: 431.6073 - val_loss: 1858.9355\n",
            "Epoch 28/100\n",
            "122/122 [==============================] - 1s 9ms/step - loss: 431.1175 - val_loss: 2527.5857\n",
            "Epoch 29/100\n",
            "122/122 [==============================] - 1s 9ms/step - loss: 448.4731 - val_loss: 2176.5723\n",
            "Epoch 30/100\n",
            "122/122 [==============================] - 1s 9ms/step - loss: 454.3470 - val_loss: 1695.7245\n",
            "Epoch 31/100\n",
            "122/122 [==============================] - 1s 11ms/step - loss: 423.4914 - val_loss: 1566.0006\n",
            "Epoch 32/100\n",
            "122/122 [==============================] - 2s 14ms/step - loss: 424.3152 - val_loss: 1587.0730\n",
            "Epoch 33/100\n",
            "122/122 [==============================] - 1s 10ms/step - loss: 420.9724 - val_loss: 1554.9410\n",
            "Epoch 34/100\n",
            "122/122 [==============================] - 1s 9ms/step - loss: 419.7161 - val_loss: 1808.2819\n",
            "Epoch 35/100\n",
            "122/122 [==============================] - 1s 9ms/step - loss: 466.5640 - val_loss: 1637.3027\n",
            "Epoch 36/100\n",
            "122/122 [==============================] - 1s 9ms/step - loss: 418.0104 - val_loss: 2013.3223\n",
            "Epoch 37/100\n",
            "122/122 [==============================] - 1s 9ms/step - loss: 437.8940 - val_loss: 1930.7703\n",
            "Epoch 38/100\n",
            "122/122 [==============================] - 1s 9ms/step - loss: 426.1777 - val_loss: 1787.0566\n",
            "Epoch 39/100\n",
            "122/122 [==============================] - 1s 9ms/step - loss: 437.8923 - val_loss: 1560.3029\n",
            "Epoch 40/100\n",
            "122/122 [==============================] - 1s 10ms/step - loss: 423.3504 - val_loss: 1708.4515\n",
            "Epoch 41/100\n",
            "122/122 [==============================] - 1s 9ms/step - loss: 418.0118 - val_loss: 1566.7120\n",
            "Epoch 42/100\n",
            "122/122 [==============================] - 2s 14ms/step - loss: 438.2576 - val_loss: 1580.9253\n",
            "Epoch 43/100\n",
            "122/122 [==============================] - 2s 15ms/step - loss: 478.0768 - val_loss: 1576.1923\n",
            "Epoch 44/100\n",
            "122/122 [==============================] - 1s 10ms/step - loss: 452.5770 - val_loss: 1679.9366\n",
            "Epoch 45/100\n",
            "122/122 [==============================] - 1s 9ms/step - loss: 448.5902 - val_loss: 2451.0684\n",
            "Epoch 46/100\n",
            "122/122 [==============================] - 1s 9ms/step - loss: 456.8939 - val_loss: 1748.3401\n",
            "Epoch 47/100\n",
            "122/122 [==============================] - 1s 9ms/step - loss: 425.1250 - val_loss: 2096.7820\n",
            "Epoch 48/100\n",
            "122/122 [==============================] - 1s 9ms/step - loss: 431.4142 - val_loss: 1545.9944\n",
            "Epoch 49/100\n",
            "122/122 [==============================] - 1s 9ms/step - loss: 413.0729 - val_loss: 2251.0076\n",
            "Epoch 50/100\n",
            "122/122 [==============================] - 1s 10ms/step - loss: 424.1975 - val_loss: 1525.6429\n",
            "Epoch 51/100\n",
            "122/122 [==============================] - 1s 10ms/step - loss: 421.9504 - val_loss: 2052.0420\n",
            "Epoch 52/100\n",
            "122/122 [==============================] - 1s 12ms/step - loss: 408.1614 - val_loss: 1729.2345\n",
            "Epoch 53/100\n",
            "122/122 [==============================] - 2s 16ms/step - loss: 410.6614 - val_loss: 1918.7026\n",
            "Epoch 54/100\n",
            "122/122 [==============================] - 1s 11ms/step - loss: 435.1529 - val_loss: 1980.7297\n",
            "Epoch 55/100\n",
            "122/122 [==============================] - 1s 9ms/step - loss: 427.1776 - val_loss: 2069.8442\n",
            "Epoch 56/100\n",
            "122/122 [==============================] - 1s 10ms/step - loss: 426.9202 - val_loss: 1798.9740\n",
            "Epoch 57/100\n",
            "122/122 [==============================] - 1s 9ms/step - loss: 446.4664 - val_loss: 1525.7158\n",
            "Epoch 58/100\n",
            "122/122 [==============================] - 1s 10ms/step - loss: 418.2543 - val_loss: 1586.1532\n",
            "Epoch 59/100\n",
            "122/122 [==============================] - 1s 10ms/step - loss: 428.7643 - val_loss: 1747.0334\n",
            "Epoch 60/100\n",
            "122/122 [==============================] - 1s 10ms/step - loss: 435.3556 - val_loss: 2075.4106\n",
            "Epoch 61/100\n",
            "122/122 [==============================] - 1s 10ms/step - loss: 434.9984 - val_loss: 1992.6366\n",
            "Epoch 62/100\n",
            "122/122 [==============================] - 2s 14ms/step - loss: 473.1624 - val_loss: 2388.0374\n",
            "Epoch 63/100\n",
            "122/122 [==============================] - 2s 17ms/step - loss: 426.2450 - val_loss: 1530.2197\n",
            "Epoch 64/100\n",
            "122/122 [==============================] - 1s 11ms/step - loss: 413.8625 - val_loss: 2127.8896\n",
            "Epoch 65/100\n",
            "122/122 [==============================] - 1s 10ms/step - loss: 455.4978 - val_loss: 1557.5804\n",
            "Epoch 66/100\n",
            "122/122 [==============================] - 1s 9ms/step - loss: 419.3810 - val_loss: 1524.4081\n",
            "Epoch 67/100\n",
            "122/122 [==============================] - 1s 9ms/step - loss: 415.3024 - val_loss: 1515.1475\n",
            "Epoch 68/100\n",
            "122/122 [==============================] - 1s 10ms/step - loss: 411.9467 - val_loss: 1541.4294\n",
            "Epoch 69/100\n",
            "122/122 [==============================] - 1s 10ms/step - loss: 411.4510 - val_loss: 2146.4373\n",
            "Epoch 70/100\n",
            "122/122 [==============================] - 1s 10ms/step - loss: 437.1860 - val_loss: 1530.7708\n",
            "Epoch 71/100\n",
            "122/122 [==============================] - 1s 10ms/step - loss: 419.0895 - val_loss: 1533.6063\n",
            "Epoch 72/100\n",
            "122/122 [==============================] - 1s 12ms/step - loss: 419.8014 - val_loss: 2758.8765\n",
            "Epoch 73/100\n",
            "122/122 [==============================] - 2s 16ms/step - loss: 425.2723 - val_loss: 1515.9988\n",
            "Epoch 74/100\n",
            "122/122 [==============================] - 1s 12ms/step - loss: 416.9122 - val_loss: 1619.6898\n",
            "Epoch 75/100\n",
            "122/122 [==============================] - 1s 9ms/step - loss: 409.9384 - val_loss: 1599.6279\n",
            "Epoch 76/100\n",
            "122/122 [==============================] - 1s 10ms/step - loss: 406.7945 - val_loss: 1512.2225\n",
            "Epoch 77/100\n",
            "122/122 [==============================] - 1s 9ms/step - loss: 405.0650 - val_loss: 1573.4767\n",
            "Epoch 78/100\n",
            "122/122 [==============================] - 1s 10ms/step - loss: 457.6628 - val_loss: 2279.2654\n",
            "Epoch 79/100\n",
            "122/122 [==============================] - 1s 10ms/step - loss: 468.8547 - val_loss: 2856.5847\n",
            "Epoch 80/100\n",
            "122/122 [==============================] - 1s 10ms/step - loss: 422.8789 - val_loss: 1818.5764\n",
            "Epoch 81/100\n",
            "122/122 [==============================] - 1s 10ms/step - loss: 410.7473 - val_loss: 1519.3149\n",
            "Epoch 82/100\n",
            "122/122 [==============================] - 2s 13ms/step - loss: 402.8642 - val_loss: 1556.4548\n",
            "Epoch 83/100\n",
            "122/122 [==============================] - 2s 17ms/step - loss: 411.6206 - val_loss: 1590.9133\n",
            "Epoch 84/100\n",
            "122/122 [==============================] - 1s 10ms/step - loss: 417.1239 - val_loss: 1863.6011\n",
            "Epoch 85/100\n",
            "122/122 [==============================] - 1s 10ms/step - loss: 418.5354 - val_loss: 1529.2816\n",
            "Epoch 86/100\n",
            "122/122 [==============================] - 1s 10ms/step - loss: 409.3292 - val_loss: 1533.2666\n",
            "Epoch 87/100\n",
            "122/122 [==============================] - 1s 11ms/step - loss: 404.2793 - val_loss: 1894.3770\n",
            "Epoch 88/100\n",
            "122/122 [==============================] - 1s 10ms/step - loss: 421.1808 - val_loss: 1834.4312\n",
            "Epoch 89/100\n",
            "122/122 [==============================] - 1s 10ms/step - loss: 415.9537 - val_loss: 1572.0344\n",
            "Epoch 90/100\n",
            "122/122 [==============================] - 1s 10ms/step - loss: 422.4880 - val_loss: 2593.5398\n",
            "Epoch 91/100\n",
            "122/122 [==============================] - 1s 10ms/step - loss: 428.0944 - val_loss: 1527.3489\n",
            "Epoch 92/100\n",
            "122/122 [==============================] - 2s 14ms/step - loss: 423.2289 - val_loss: 1663.4464\n",
            "Epoch 93/100\n",
            "122/122 [==============================] - 2s 18ms/step - loss: 411.8261 - val_loss: 1534.4731\n",
            "Epoch 94/100\n",
            "122/122 [==============================] - 1s 10ms/step - loss: 403.2693 - val_loss: 1612.0327\n",
            "Epoch 95/100\n",
            "122/122 [==============================] - 1s 10ms/step - loss: 408.7498 - val_loss: 1524.8253\n",
            "Epoch 96/100\n",
            "122/122 [==============================] - 1s 11ms/step - loss: 433.5717 - val_loss: 1554.1095\n",
            "Epoch 97/100\n",
            "122/122 [==============================] - 1s 10ms/step - loss: 404.6286 - val_loss: 1536.1802\n",
            "Epoch 98/100\n",
            "122/122 [==============================] - 1s 10ms/step - loss: 414.5790 - val_loss: 1633.6466\n",
            "Epoch 99/100\n",
            "122/122 [==============================] - 1s 10ms/step - loss: 413.5840 - val_loss: 1805.2649\n",
            "Epoch 100/100\n",
            "122/122 [==============================] - 1s 10ms/step - loss: 410.1087 - val_loss: 1532.9479\n"
          ]
        },
        {
          "output_type": "execute_result",
          "data": {
            "text/plain": [
              "<keras.src.callbacks.History at 0x7cbef27c37c0>"
            ]
          },
          "metadata": {},
          "execution_count": 65
        }
      ]
    },
    {
      "cell_type": "code",
      "source": [
        "ev=model_z.evaluate(xtest,ytest)"
      ],
      "metadata": {
        "colab": {
          "base_uri": "https://localhost:8080/"
        },
        "id": "7JTVEc0sP4xq",
        "outputId": "5063c74b-79d5-4939-b329-fa6bcdb3d83b"
      },
      "execution_count": 66,
      "outputs": [
        {
          "output_type": "stream",
          "name": "stdout",
          "text": [
            "31/31 [==============================] - 0s 4ms/step - loss: 1532.9479\n"
          ]
        }
      ]
    },
    {
      "cell_type": "code",
      "source": [
        "ypred=model_z.predict(xtest)"
      ],
      "metadata": {
        "colab": {
          "base_uri": "https://localhost:8080/"
        },
        "id": "H9yPwzZYP60z",
        "outputId": "87f3d607-651b-4037-e399-a50f8cdb144f"
      },
      "execution_count": 67,
      "outputs": [
        {
          "output_type": "stream",
          "name": "stdout",
          "text": [
            "31/31 [==============================] - 1s 4ms/step\n"
          ]
        }
      ]
    },
    {
      "cell_type": "code",
      "source": [
        "make_graph(ypred)"
      ],
      "metadata": {
        "colab": {
          "base_uri": "https://localhost:8080/",
          "height": 452
        },
        "id": "W5pVeMrpP9NJ",
        "outputId": "4727a221-93d8-474a-8137-3c5b0efb12e5"
      },
      "execution_count": 68,
      "outputs": [
        {
          "output_type": "display_data",
          "data": {
            "text/plain": [
              "<Figure size 640x480 with 2 Axes>"
            ],
            "image/png": "[encoded data removed]"
          },
          "metadata": {}
        }
      ]
    },
    {
      "cell_type": "markdown",
      "source": [
        "**N-beats model**"
      ],
      "metadata": {
        "id": "1LmVoEKuQi_V"
      }
    },
    {
      "cell_type": "code",
      "source": [
        "def n_beats_block(input_shape, lstm_units=64, num_layers=2):\n",
        "    inputs = tensorflow.keras.layers.Input(shape=[30,])\n",
        "    x = tensorflow.keras.layers.Lambda(lambda x: tensorflow.expand_dims(x, axis=1))(inputs) # Pass 'inputs' to the Lambda layer\n",
        "    for _ in range(num_layers):\n",
        "        x = tensorflow.keras.layers.LSTM(lstm_units, return_sequences=True)(x)\n",
        "    x = tensorflow.keras.layers.LSTM(lstm_units)(x)\n",
        "    block_output = tensorflow.keras.layers.Dense(7)(x)\n",
        "\n",
        "    model = tensorflow.keras.models.Model(inputs=inputs, outputs=block_output)\n",
        "    return model\n",
        "\n",
        "# Example usage:\n",
        "block = n_beats_block(input_shape=(10, 1))  # Example input shape"
      ],
      "metadata": {
        "id": "zvHLQSGZQiDv"
      },
      "execution_count": 89,
      "outputs": []
    },
    {
      "cell_type": "code",
      "source": [
        "block.summary()"
      ],
      "metadata": {
        "id": "sagjXsRZYvOV",
        "outputId": "8cc38e47-8836-4c45-8cc8-e1ec10fa37a0",
        "colab": {
          "base_uri": "https://localhost:8080/"
        }
      },
      "execution_count": 90,
      "outputs": [
        {
          "output_type": "stream",
          "name": "stdout",
          "text": [
            "Model: \"model_2\"\n",
            "_________________________________________________________________\n",
            " Layer (type)                Output Shape              Param #   \n",
            "=================================================================\n",
            " input_15 (InputLayer)       [(None, 30)]              0         \n",
            "                                                                 \n",
            " lambda_13 (Lambda)          (None, 1, 30)             0         \n",
            "                                                                 \n",
            " lstm_21 (LSTM)              (None, 1, 64)             24320     \n",
            "                                                                 \n",
            " lstm_22 (LSTM)              (None, 1, 64)             33024     \n",
            "                                                                 \n",
            " lstm_23 (LSTM)              (None, 64)                33024     \n",
            "                                                                 \n",
            " dense_26 (Dense)            (None, 7)                 455       \n",
            "                                                                 \n",
            "=================================================================\n",
            "Total params: 90823 (354.78 KB)\n",
            "Trainable params: 90823 (354.78 KB)\n",
            "Non-trainable params: 0 (0.00 Byte)\n",
            "_________________________________________________________________\n"
          ]
        }
      ]
    },
    {
      "cell_type": "code",
      "source": [
        "block.compile(optimizer=tensorflow.keras.optimizers.Adam(),\n",
        "              loss=tensorflow.keras.losses.MeanAbsoluteError())"
      ],
      "metadata": {
        "id": "tTBCEqZfYyew"
      },
      "execution_count": 91,
      "outputs": []
    },
    {
      "cell_type": "code",
      "source": [
        "block.fit(xtrain,ytrain,epochs=100,validation_data=(xtest,ytest))"
      ],
      "metadata": {
        "id": "JhZ1O0DQY3kr",
        "outputId": "8c514756-22cd-4b94-d98d-0cc8e66c4752",
        "colab": {
          "base_uri": "https://localhost:8080/"
        }
      },
      "execution_count": 92,
      "outputs": [
        {
          "output_type": "stream",
          "name": "stdout",
          "text": [
            "Epoch 1/100\n",
            "122/122 [==============================] - 8s 18ms/step - loss: 6095.4966 - val_loss: 35864.4492\n",
            "Epoch 2/100\n",
            "122/122 [==============================] - 1s 7ms/step - loss: 6088.1040 - val_loss: 35857.6758\n",
            "Epoch 3/100\n",
            "122/122 [==============================] - 1s 7ms/step - loss: 6083.2373 - val_loss: 35851.5938\n",
            "Epoch 4/100\n",
            "122/122 [==============================] - 1s 7ms/step - loss: 6078.8037 - val_loss: 35845.6875\n",
            "Epoch 5/100\n",
            "122/122 [==============================] - 1s 6ms/step - loss: 6074.2207 - val_loss: 35839.7344\n",
            "Epoch 6/100\n",
            "122/122 [==============================] - 1s 7ms/step - loss: 6069.5898 - val_loss: 35834.1836\n",
            "Epoch 7/100\n",
            "122/122 [==============================] - 1s 10ms/step - loss: 6065.7422 - val_loss: 35827.4805\n",
            "Epoch 8/100\n",
            "122/122 [==============================] - 1s 10ms/step - loss: 6062.2725 - val_loss: 35821.8320\n",
            "Epoch 9/100\n",
            "122/122 [==============================] - 1s 10ms/step - loss: 6056.2402 - val_loss: 35815.8242\n",
            "Epoch 10/100\n",
            "122/122 [==============================] - 1s 7ms/step - loss: 6050.7900 - val_loss: 35809.3438\n",
            "Epoch 11/100\n",
            "122/122 [==============================] - 1s 6ms/step - loss: 6045.0068 - val_loss: 35803.0156\n",
            "Epoch 12/100\n",
            "122/122 [==============================] - 1s 7ms/step - loss: 6040.8228 - val_loss: 35797.0078\n",
            "Epoch 13/100\n",
            "122/122 [==============================] - 1s 7ms/step - loss: 6036.0986 - val_loss: 35790.7539\n",
            "Epoch 14/100\n",
            "122/122 [==============================] - 1s 7ms/step - loss: 6030.1230 - val_loss: 35784.4336\n",
            "Epoch 15/100\n",
            "122/122 [==============================] - 1s 7ms/step - loss: 6025.3579 - val_loss: 35778.2695\n",
            "Epoch 16/100\n",
            "122/122 [==============================] - 1s 7ms/step - loss: 6020.6475 - val_loss: 35772.1562\n",
            "Epoch 17/100\n",
            "122/122 [==============================] - 1s 7ms/step - loss: 6015.7407 - val_loss: 35766.1562\n",
            "Epoch 18/100\n",
            "122/122 [==============================] - 1s 6ms/step - loss: 6011.5767 - val_loss: 35760.1562\n",
            "Epoch 19/100\n",
            "122/122 [==============================] - 1s 7ms/step - loss: 6007.0347 - val_loss: 35754.3516\n",
            "Epoch 20/100\n",
            "122/122 [==============================] - 1s 7ms/step - loss: 6002.3574 - val_loss: 35748.4727\n",
            "Epoch 21/100\n",
            "122/122 [==============================] - 1s 7ms/step - loss: 5998.5483 - val_loss: 35742.7266\n",
            "Epoch 22/100\n",
            "122/122 [==============================] - 1s 10ms/step - loss: 5993.9600 - val_loss: 35738.2109\n",
            "Epoch 23/100\n",
            "122/122 [==============================] - 1s 10ms/step - loss: 5990.0107 - val_loss: 35731.4062\n",
            "Epoch 24/100\n",
            "122/122 [==============================] - 1s 10ms/step - loss: 5986.1597 - val_loss: 35725.6719\n",
            "Epoch 25/100\n",
            "122/122 [==============================] - 1s 7ms/step - loss: 5983.6802 - val_loss: 35719.9297\n",
            "Epoch 26/100\n",
            "122/122 [==============================] - 1s 8ms/step - loss: 5983.0835 - val_loss: 35715.8398\n",
            "Epoch 27/100\n",
            "122/122 [==============================] - 1s 7ms/step - loss: 5992.3037 - val_loss: 35713.5938\n",
            "Epoch 28/100\n",
            "122/122 [==============================] - 1s 7ms/step - loss: 5997.6421 - val_loss: 35705.4453\n",
            "Epoch 29/100\n",
            "122/122 [==============================] - 1s 7ms/step - loss: 5969.9712 - val_loss: 35699.2109\n",
            "Epoch 30/100\n",
            "122/122 [==============================] - 1s 7ms/step - loss: 5972.5396 - val_loss: 35694.6875\n",
            "Epoch 31/100\n",
            "122/122 [==============================] - 1s 6ms/step - loss: 6003.6699 - val_loss: 35773.2891\n",
            "Epoch 32/100\n",
            "122/122 [==============================] - 1s 7ms/step - loss: 6016.3979 - val_loss: 35771.9844\n",
            "Epoch 33/100\n",
            "122/122 [==============================] - 1s 7ms/step - loss: 6006.7617 - val_loss: 35752.5938\n",
            "Epoch 34/100\n",
            "122/122 [==============================] - 1s 7ms/step - loss: 6002.3115 - val_loss: 35748.0078\n",
            "Epoch 35/100\n",
            "122/122 [==============================] - 1s 7ms/step - loss: 5998.8110 - val_loss: 35744.0391\n",
            "Epoch 36/100\n",
            "122/122 [==============================] - 1s 7ms/step - loss: 5996.5688 - val_loss: 35740.1914\n",
            "Epoch 37/100\n",
            "122/122 [==============================] - 1s 10ms/step - loss: 5993.6650 - val_loss: 35736.4609\n",
            "Epoch 38/100\n",
            "122/122 [==============================] - 1s 10ms/step - loss: 5996.2959 - val_loss: 35735.2305\n",
            "Epoch 39/100\n",
            "122/122 [==============================] - 1s 9ms/step - loss: 5988.7959 - val_loss: 35729.2422\n",
            "Epoch 40/100\n",
            "122/122 [==============================] - 1s 7ms/step - loss: 5985.2505 - val_loss: 35725.4375\n",
            "Epoch 41/100\n",
            "122/122 [==============================] - 1s 7ms/step - loss: 5982.3169 - val_loss: 35721.6680\n",
            "Epoch 42/100\n",
            "122/122 [==============================] - 1s 7ms/step - loss: 5979.7124 - val_loss: 35717.9766\n",
            "Epoch 43/100\n",
            "122/122 [==============================] - 1s 7ms/step - loss: 5977.3252 - val_loss: 35714.3164\n",
            "Epoch 44/100\n",
            "122/122 [==============================] - 1s 7ms/step - loss: 5974.5146 - val_loss: 35710.4766\n",
            "Epoch 45/100\n",
            "122/122 [==============================] - 1s 7ms/step - loss: 5972.5889 - val_loss: 35706.8359\n",
            "Epoch 46/100\n",
            "122/122 [==============================] - 1s 7ms/step - loss: 5969.1772 - val_loss: 35703.0469\n",
            "Epoch 47/100\n",
            "122/122 [==============================] - 1s 7ms/step - loss: 5966.5356 - val_loss: 35699.2812\n",
            "Epoch 48/100\n",
            "122/122 [==============================] - 1s 6ms/step - loss: 5964.2695 - val_loss: 35695.5469\n",
            "Epoch 49/100\n",
            "122/122 [==============================] - 1s 7ms/step - loss: 5962.1250 - val_loss: 35691.8945\n",
            "Epoch 50/100\n",
            "122/122 [==============================] - 1s 6ms/step - loss: 5963.3101 - val_loss: 35860.0273\n",
            "Epoch 51/100\n",
            "122/122 [==============================] - 1s 9ms/step - loss: 6029.1011 - val_loss: 35769.3203\n",
            "Epoch 52/100\n",
            "122/122 [==============================] - 1s 10ms/step - loss: 6014.3237 - val_loss: 35766.9297\n",
            "Epoch 53/100\n",
            "122/122 [==============================] - 1s 10ms/step - loss: 6012.5752 - val_loss: 35764.6836\n",
            "Epoch 54/100\n",
            "122/122 [==============================] - 1s 7ms/step - loss: 6010.9897 - val_loss: 35762.4922\n",
            "Epoch 55/100\n",
            "122/122 [==============================] - 1s 6ms/step - loss: 6009.3311 - val_loss: 35760.3320\n",
            "Epoch 56/100\n",
            "122/122 [==============================] - 1s 6ms/step - loss: 6007.7568 - val_loss: 35758.1680\n",
            "Epoch 57/100\n",
            "122/122 [==============================] - 1s 7ms/step - loss: 6006.4614 - val_loss: 35756.0586\n",
            "Epoch 58/100\n",
            "122/122 [==============================] - 1s 7ms/step - loss: 5991.6191 - val_loss: 35671.7773\n",
            "Epoch 59/100\n",
            "122/122 [==============================] - 1s 7ms/step - loss: 5959.0518 - val_loss: 35666.8828\n",
            "Epoch 60/100\n",
            "122/122 [==============================] - 1s 6ms/step - loss: 5941.7197 - val_loss: 35662.6562\n",
            "Epoch 61/100\n",
            "122/122 [==============================] - 1s 7ms/step - loss: 5939.3354 - val_loss: 35658.3789\n",
            "Epoch 62/100\n",
            "122/122 [==============================] - 1s 7ms/step - loss: 5936.5200 - val_loss: 35654.2344\n",
            "Epoch 63/100\n",
            "122/122 [==============================] - 1s 7ms/step - loss: 5979.1250 - val_loss: 35797.4453\n",
            "Epoch 64/100\n",
            "122/122 [==============================] - 1s 7ms/step - loss: 5948.9673 - val_loss: 35574.1055\n",
            "Epoch 65/100\n",
            "122/122 [==============================] - 1s 7ms/step - loss: 5996.4790 - val_loss: 35866.5234\n",
            "Epoch 66/100\n",
            "122/122 [==============================] - 1s 10ms/step - loss: 6092.8135 - val_loss: 35866.3672\n",
            "Epoch 67/100\n",
            "122/122 [==============================] - 1s 10ms/step - loss: 6092.6606 - val_loss: 35866.2266\n",
            "Epoch 68/100\n",
            "122/122 [==============================] - 1s 10ms/step - loss: 6092.5361 - val_loss: 35866.0898\n",
            "Epoch 69/100\n",
            "122/122 [==============================] - 1s 7ms/step - loss: 6092.4375 - val_loss: 35865.9375\n",
            "Epoch 70/100\n",
            "122/122 [==============================] - 1s 6ms/step - loss: 6092.3198 - val_loss: 35865.8086\n",
            "Epoch 71/100\n",
            "122/122 [==============================] - 1s 7ms/step - loss: 6092.2217 - val_loss: 35865.7852\n",
            "Epoch 72/100\n",
            "122/122 [==============================] - 1s 7ms/step - loss: 6092.0762 - val_loss: 35865.5586\n",
            "Epoch 73/100\n",
            "122/122 [==============================] - 1s 7ms/step - loss: 6091.9385 - val_loss: 35865.4492\n",
            "Epoch 74/100\n",
            "122/122 [==============================] - 1s 7ms/step - loss: 6091.7739 - val_loss: 35865.3008\n",
            "Epoch 75/100\n",
            "122/122 [==============================] - 1s 8ms/step - loss: 6091.6260 - val_loss: 35865.1641\n",
            "Epoch 76/100\n",
            "122/122 [==============================] - 1s 7ms/step - loss: 6091.5059 - val_loss: 35865.0352\n",
            "Epoch 77/100\n",
            "122/122 [==============================] - 1s 7ms/step - loss: 6091.3887 - val_loss: 35864.9062\n",
            "Epoch 78/100\n",
            "122/122 [==============================] - 1s 7ms/step - loss: 6091.2734 - val_loss: 35864.7734\n",
            "Epoch 79/100\n",
            "122/122 [==============================] - 1s 7ms/step - loss: 6091.1587 - val_loss: 35864.6445\n",
            "Epoch 80/100\n",
            "122/122 [==============================] - 1s 8ms/step - loss: 6091.0454 - val_loss: 35864.5156\n",
            "Epoch 81/100\n",
            "122/122 [==============================] - 1s 10ms/step - loss: 6090.9287 - val_loss: 35864.3828\n",
            "Epoch 82/100\n",
            "122/122 [==============================] - 1s 10ms/step - loss: 6090.8198 - val_loss: 35864.2539\n",
            "Epoch 83/100\n",
            "122/122 [==============================] - 1s 9ms/step - loss: 6090.7061 - val_loss: 35864.1211\n",
            "Epoch 84/100\n",
            "122/122 [==============================] - 1s 6ms/step - loss: 6090.5918 - val_loss: 35863.9922\n",
            "Epoch 85/100\n",
            "122/122 [==============================] - 1s 7ms/step - loss: 6090.4780 - val_loss: 35863.8711\n",
            "Epoch 86/100\n",
            "122/122 [==============================] - 1s 7ms/step - loss: 6090.3682 - val_loss: 35863.7461\n",
            "Epoch 87/100\n",
            "122/122 [==============================] - 1s 7ms/step - loss: 6090.2593 - val_loss: 35863.6211\n",
            "Epoch 88/100\n",
            "122/122 [==============================] - 1s 7ms/step - loss: 6090.1460 - val_loss: 35863.5000\n",
            "Epoch 89/100\n",
            "122/122 [==============================] - 1s 7ms/step - loss: 6090.0381 - val_loss: 35863.3906\n",
            "Epoch 90/100\n",
            "122/122 [==============================] - 1s 6ms/step - loss: 6089.9282 - val_loss: 35863.2695\n",
            "Epoch 91/100\n",
            "122/122 [==============================] - 1s 6ms/step - loss: 6089.8223 - val_loss: 35863.1484\n",
            "Epoch 92/100\n",
            "122/122 [==============================] - 1s 8ms/step - loss: 6089.7163 - val_loss: 35863.0273\n",
            "Epoch 93/100\n",
            "122/122 [==============================] - 1s 6ms/step - loss: 6089.6133 - val_loss: 35862.9062\n",
            "Epoch 94/100\n",
            "122/122 [==============================] - 1s 7ms/step - loss: 6089.5083 - val_loss: 35862.7852\n",
            "Epoch 95/100\n",
            "122/122 [==============================] - 1s 8ms/step - loss: 6089.4072 - val_loss: 35862.6641\n",
            "Epoch 96/100\n",
            "122/122 [==============================] - 1s 10ms/step - loss: 6089.3013 - val_loss: 35862.5391\n",
            "Epoch 97/100\n",
            "122/122 [==============================] - 1s 10ms/step - loss: 6089.1948 - val_loss: 35862.4180\n",
            "Epoch 98/100\n",
            "122/122 [==============================] - 1s 9ms/step - loss: 6089.0938 - val_loss: 35862.2969\n",
            "Epoch 99/100\n",
            "122/122 [==============================] - 1s 6ms/step - loss: 6088.9932 - val_loss: 35862.1719\n",
            "Epoch 100/100\n",
            "122/122 [==============================] - 1s 7ms/step - loss: 6088.8877 - val_loss: 35862.0586\n"
          ]
        },
        {
          "output_type": "execute_result",
          "data": {
            "text/plain": [
              "<keras.src.callbacks.History at 0x7cbf003c8940>"
            ]
          },
          "metadata": {},
          "execution_count": 92
        }
      ]
    },
    {
      "cell_type": "code",
      "source": [
        "ev=block.evaluate(xtest,ytest)"
      ],
      "metadata": {
        "id": "CYwSQmjCiph5",
        "outputId": "a5578e49-0a07-4c8e-9485-f99b6929b274",
        "colab": {
          "base_uri": "https://localhost:8080/"
        }
      },
      "execution_count": 93,
      "outputs": [
        {
          "output_type": "stream",
          "name": "stdout",
          "text": [
            "31/31 [==============================] - 0s 6ms/step - loss: 35862.0586\n"
          ]
        }
      ]
    },
    {
      "cell_type": "code",
      "source": [
        "ypred=block.predict(xtest)\n",
        "ypred=numpy.squeeze(ypred)"
      ],
      "metadata": {
        "id": "7MgSWCExirGa",
        "outputId": "1bde2916-a640-451a-c81f-d73bb25657f7",
        "colab": {
          "base_uri": "https://localhost:8080/"
        }
      },
      "execution_count": 96,
      "outputs": [
        {
          "output_type": "stream",
          "name": "stdout",
          "text": [
            "31/31 [==============================] - 0s 3ms/step\n"
          ]
        }
      ]
    },
    {
      "cell_type": "code",
      "source": [
        "make_graph(ypred)"
      ],
      "metadata": {
        "id": "9C_Z-MsmismD",
        "outputId": "73464a62-402e-49fb-ff67-386d86500326",
        "colab": {
          "base_uri": "https://localhost:8080/",
          "height": 452
        }
      },
      "execution_count": 97,
      "outputs": [
        {
          "output_type": "display_data",
          "data": {
            "text/plain": [
              "<Figure size 640x480 with 2 Axes>"
            ],
            "image/png": "[encoded data removed]"
          },
          "metadata": {}
        }
      ]
    }
  ]
}